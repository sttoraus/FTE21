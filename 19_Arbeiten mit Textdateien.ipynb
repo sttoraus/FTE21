{
 "cells": [
  {
   "cell_type": "markdown",
   "metadata": {},
   "source": [
    "# Arbeiten mit Textdateien\n",
    "\n",
    "Python has several functions for creating, reading, updating, and deleting files. The key function for working with files in Python is the open() function.\n",
    "\n",
    "The open() function takes two parameters; filename, and mode.\n",
    "\n",
    "There are four different methods (modes) for opening a file:"
   ]
  },
  {
   "cell_type": "markdown",
   "metadata": {},
   "source": [
    "\"r\" - Read - Default value. Opens a file for reading, error if the file does not exist\n",
    "\n",
    "\"a\" - Append - Opens a file for appending, creates the file if it does not exist\n",
    "\n",
    "\"w\" - Write - Opens a file for writing, creates the file if it does not exist\n",
    "\n",
    "\"x\" - Create - Creates the specified file, returns an error if the file exists\n",
    "\n",
    "close() beendet den Zugriff auf eine Datei!"
   ]
  },
  {
   "cell_type": "code",
   "execution_count": null,
   "metadata": {},
   "outputs": [],
   "source": [
    "# Erstelle eine .txt Datei mit dem Namen \"Test.txt\" und füge einen Inhalt über mehrere Zeilen ein \n",
    "# Die Datei muss sich im gleichen Ordner wie diese Datei befinden!"
   ]
  },
  {
   "cell_type": "code",
   "execution_count": 14,
   "metadata": {},
   "outputs": [
    {
     "name": "stdout",
     "output_type": "stream",
     "text": [
      "Das ist ein Test\n",
      "Das ist Zeile 2\n",
      "Das ist Zeile 3\n",
      "Das ist Neu!! \n",
      "Das ist Neu!! \n",
      "Das ist Neu!! \n",
      "\n"
     ]
    }
   ],
   "source": [
    "# Ausgabe der gesamten Textdatei\n",
    "f = open(\"Text.txt\", \"r\")     # r für read\n",
    "print(f.read())\n",
    "f.close() "
   ]
  },
  {
   "cell_type": "code",
   "execution_count": null,
   "metadata": {},
   "outputs": [],
   "source": [
    "# Ausgabe der ersten 5 Zeichen\n",
    "f = open(\"Text.txt\", \"r\")\n",
    "print(f.read(5))\n",
    "f.close() "
   ]
  },
  {
   "cell_type": "code",
   "execution_count": 3,
   "metadata": {},
   "outputs": [
    {
     "name": "stdout",
     "output_type": "stream",
     "text": [
      "Das ist ein Test\n",
      "\n"
     ]
    }
   ],
   "source": [
    "# Ausgabe der ersten Zeile\n",
    "f = open(\"Text.txt\", \"r\")\n",
    "print(f.readline()) \n",
    "f.close() "
   ]
  },
  {
   "cell_type": "code",
   "execution_count": null,
   "metadata": {},
   "outputs": [],
   "source": [
    "# Zeile für Zeile mit einer Schleife ausgeben\n",
    "f = open(\"Text.txt\", \"r\")\n",
    "for x in f:\n",
    "    print (x)\n",
    "f.close()"
   ]
  },
  {
   "cell_type": "code",
   "execution_count": 5,
   "metadata": {},
   "outputs": [
    {
     "name": "stdout",
     "output_type": "stream",
     "text": [
      "Das ist ein Test\n",
      "Das ist Zeile 2\n",
      "Das ist Zeile 3\n",
      "Das ist Neu!! \n",
      "Das ist Neu!! \n",
      "Das ist Neu!! \n",
      "\n"
     ]
    }
   ],
   "source": [
    "# Ändern der Textdatei\n",
    "f = open(\"Text.txt\", \"a\")    # a für append (hinzufügen)\n",
    "f.write(\"Das ist Neu!! \\n\")  #     \\n  erzeugt eine neue Zeile\n",
    "f.close()\n",
    "#open and read the file after the appending:\n",
    "f = open(\"Text.txt\", \"r\")\n",
    "print(f.read()) \n",
    "f.close()"
   ]
  },
  {
   "cell_type": "code",
   "execution_count": null,
   "metadata": {},
   "outputs": [],
   "source": [
    "# Erstellen einer neuen Textdatei\n",
    "f = open(\"Demodatei.txt\", \"w\")       # w für write; Achtung, überschreibt alle vorhandene Inhalte!  x ist auch möglich!\n",
    "f.write(\"Das ist eine neue Datei! \\n\")   #\\n  erzeugt eine neue Zeile\n",
    "f.close()"
   ]
  },
  {
   "cell_type": "markdown",
   "metadata": {},
   "source": [
    "**Aufgabe1:**  \n",
    "Folgender Code erstellt eine neue txt Datei mit 8 Zahlen. \n",
    "\n",
    "1. Führe den Code aus"
   ]
  },
  {
   "cell_type": "code",
   "execution_count": 6,
   "metadata": {},
   "outputs": [],
   "source": [
    "f = open(\"Messdaten.txt\", \"w\")      \n",
    "f.write(\"8\\n9\\n10.1\\n10\\n9\\n8.9\\n7.8\\n9.5\\n\")\n",
    "f.close()"
   ]
  },
  {
   "cell_type": "markdown",
   "metadata": {},
   "source": [
    "2. Schreibe einen Code der die Textdatei um die beiden folgenden Messdaten ergänzt: 9.5 und 10.1"
   ]
  },
  {
   "cell_type": "code",
   "execution_count": null,
   "metadata": {},
   "outputs": [],
   "source": []
  },
  {
   "cell_type": "markdown",
   "metadata": {},
   "source": [
    "3. Speichere die Messdaten in einer Liste und gib diese mit matplotlib als plot aus. "
   ]
  },
  {
   "cell_type": "code",
   "execution_count": null,
   "metadata": {},
   "outputs": [],
   "source": []
  },
  {
   "cell_type": "markdown",
   "metadata": {},
   "source": [
    "4. Schreibe eine Funktion, welche die Textdatei einliest und die Messdaten in einem Array zurück gibt"
   ]
  },
  {
   "cell_type": "code",
   "execution_count": null,
   "metadata": {},
   "outputs": [],
   "source": []
  },
  {
   "cell_type": "markdown",
   "metadata": {},
   "source": [
    "**Aufgabe2**:  \n",
    "Erstelle eine Textdatei mit beliebigem Namen, welche die Zahlen von 10 bis 50 beeinhaltet."
   ]
  },
  {
   "cell_type": "code",
   "execution_count": null,
   "metadata": {},
   "outputs": [],
   "source": []
  },
  {
   "cell_type": "markdown",
   "metadata": {},
   "source": [
    "**Aufgabe3**: Erweitere Aufgabe 2 so, dass der Benutzer informiert wird, wenn bereits eine Textdatei mit dem gewünschten Namen vorhanden ist."
   ]
  },
  {
   "cell_type": "code",
   "execution_count": null,
   "metadata": {},
   "outputs": [],
   "source": []
  }
 ],
 "metadata": {
  "kernelspec": {
   "display_name": "Python 3",
   "language": "python",
   "name": "python3"
  },
  "language_info": {
   "codemirror_mode": {
    "name": "ipython",
    "version": 3
   },
   "file_extension": ".py",
   "mimetype": "text/x-python",
   "name": "python",
   "nbconvert_exporter": "python",
   "pygments_lexer": "ipython3",
   "version": "3.8.3"
  }
 },
 "nbformat": 4,
 "nbformat_minor": 4
}

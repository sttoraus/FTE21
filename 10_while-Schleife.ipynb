{
 "cells": [
  {
   "cell_type": "markdown",
   "metadata": {},
   "source": [
    "# While-Schleife\n",
    "In manchen Fällen muss ein Programm immer wieder die gleichen Anweisungen viele Male hintereinander ausführen, bis ein bestimmtes Ergebnis eintritt. Wie oft man diese Anweisungen wiederholen muss, hängt dabei von einer Bedingung ab, welche am Anfang, bevor die Anweisungen ausgeführt werden, überprüft wird. Solche Wiederholungen nennt man auch Schleifen. Ist die Anzahl der Schleifendurchläufe vor dem Beginn des Programms nicht exakt bekannt, benutzt man eine while-Schleife.\n"
   ]
  },
  {
   "cell_type": "markdown",
   "metadata": {},
   "source": [
    "## Aufbau der While-Schleife\n",
    "Eine while-Schleife wird in Python mit dem Schlüsselwort while eingeleitet. Danach folgt die Bedingung, die erfüllt sein muss, damit die Schleife wiederholt wird, d.h. die Schleife wird wiederholt, solange die Bedingung erfüllt ist (hier im Beispiel: solange zufallszahl ungleich 6 ist). Abschließend folgt ein Doppelpunkt, und unter dem Doppelpunkt stehen eingerückt alle Anweisungen, die im Rahmen der Schleife ausgeführt werden sollen.\n"
   ]
  },
  {
   "cell_type": "code",
   "execution_count": 6,
   "metadata": {},
   "outputs": [
    {
     "name": "stdin",
     "output_type": "stream",
     "text": [
      "Bitte richtiges Passwort eingeben asd\n",
      "Bitte richtiges Passwort eingeben admin\n"
     ]
    },
    {
     "name": "stdout",
     "output_type": "stream",
     "text": [
      "Das war korrekt\n"
     ]
    }
   ],
   "source": [
    "passwort=\"admin\"\n",
    "passwortEingabe=0\n",
    "while(passwortEingabe!=passwort):\n",
    "    passwortEingabe=input(\"Bitte richtiges Passwort eingeben\")\n",
    "print(\"Das war korrekt\")"
   ]
  },
  {
   "cell_type": "markdown",
   "metadata": {},
   "source": [
    "## Aufgaben\n",
    "1. Erweitere folgenden Code so, dass der Benutzer solange eine Eingabe betätigen muss, bis er eine Zahl eingibt.\n"
   ]
  },
  {
   "cell_type": "code",
   "execution_count": null,
   "metadata": {},
   "outputs": [],
   "source": [
    "zahl=input(\"Bitte zahl eingeben\")\n",
    "if(zahl.isdecimal()):\n",
    "    print(\"Gute Wahl\")\n",
    "else:\n",
    "    print(\"Keine Zahl\")"
   ]
  },
  {
   "cell_type": "markdown",
   "metadata": {},
   "source": [
    "2. Der Fischbestand eines Teichs beträgt zu Beginn eines Jahres drei Fische. Jedes Jahr verdoppelt sich der Fischbestand. \n",
    "Erstellen Sie ein Programm, das die Dauer in Jahren ermittelt, bis ein bestimmter, vom Anwender einzugebender Fischbestand erreicht bzw. überschritten wird.\n",
    "3. Realisiere folgende Bildschirmausgabe mit einer while-Schleife!  \n",
    "\n",
    "1 \n",
    "\n",
    "2  \n",
    "\n",
    "3 \n",
    "\n",
    "4  \n",
    "\n",
    "5  \n",
    "\n",
    "6  \n",
    "\n",
    "7  \n",
    "\n",
    "8  \n",
    "\n",
    "9  \n",
    "\n",
    "10"
   ]
  },
  {
   "cell_type": "markdown",
   "metadata": {},
   "source": [
    "## Zusatzaufgabe\n",
    "1. Passwortabfrage\n",
    "Erweitere den Code so, dass der Benutzer maximal drei Versuche hat. Wurde das Passwort beim dritten Versuch immer noch nicht korrekt eingegeben, soll eine entsprechende Ausgabe erfolgen.\n"
   ]
  },
  {
   "cell_type": "code",
   "execution_count": null,
   "metadata": {},
   "outputs": [],
   "source": [
    "passwort=\"admin\"\n",
    "passwortEingabe=0\n",
    "while(passwortEingabe!=passwort):\n",
    "    passwortEingabe=input(\"Bitte richtiges Passwort eingeben\")\n",
    "print(\"Das war korrekt\")"
   ]
  },
  {
   "cell_type": "markdown",
   "metadata": {},
   "source": [
    "2. Zahlenratespiel\n",
    "\n",
    "Der Spieler hat 7-mal die Chance die vom Computer durch Zufall festgelegte Zahl zu erraten. Als Rückmeldung bekommt er nur:\n",
    "\n",
    "    deine geratene Zahl ist zu groß\n",
    "    deine geratene Zahl ist zu klein\n",
    "    Gewonnen! Die geheime Zahl ist nicht mehr geheim\n",
    "\n",
    "Wenn der Spieler gewonnen hat, kommt eine entsprechende Meldung. Hat der Spieler die Zahl nicht erraten, kommt als Nachricht: „Schade – verloren. Einfach nochmals probieren“."
   ]
  },
  {
   "cell_type": "code",
   "execution_count": null,
   "metadata": {},
   "outputs": [],
   "source": []
  }
 ],
 "metadata": {
  "kernelspec": {
   "display_name": "Python 3",
   "language": "python",
   "name": "python3"
  },
  "language_info": {
   "codemirror_mode": {
    "name": "ipython",
    "version": 3
   },
   "file_extension": ".py",
   "mimetype": "text/x-python",
   "name": "python",
   "nbconvert_exporter": "python",
   "pygments_lexer": "ipython3",
   "version": "3.8.3"
  }
 },
 "nbformat": 4,
 "nbformat_minor": 4
}

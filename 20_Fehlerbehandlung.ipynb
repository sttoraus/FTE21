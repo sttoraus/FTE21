{
 "cells": [
  {
   "cell_type": "markdown",
   "metadata": {},
   "source": [
    "# Fehlerbehandlung\n",
    "\n",
    "Gesehen hat sie bestimmt schon jeder :-)"
   ]
  },
  {
   "cell_type": "code",
   "execution_count": 20,
   "metadata": {},
   "outputs": [
    {
     "ename": "ModuleNotFoundError",
     "evalue": "No module named 'kenn_ich_nicht'",
     "output_type": "error",
     "traceback": [
      "\u001b[1;31m---------------------------------------------------------------------------\u001b[0m",
      "\u001b[1;31mModuleNotFoundError\u001b[0m                       Traceback (most recent call last)",
      "\u001b[1;32m<ipython-input-20-7728b4529ece>\u001b[0m in \u001b[0;36m<module>\u001b[1;34m\u001b[0m\n\u001b[1;32m----> 1\u001b[1;33m \u001b[1;32mimport\u001b[0m \u001b[0mkenn_ich_nicht\u001b[0m\u001b[1;33m\u001b[0m\u001b[1;33m\u001b[0m\u001b[0m\n\u001b[0m",
      "\u001b[1;31mModuleNotFoundError\u001b[0m: No module named 'kenn_ich_nicht'"
     ]
    }
   ],
   "source": [
    "import kenn_ich_nicht"
   ]
  },
  {
   "cell_type": "markdown",
   "metadata": {},
   "source": [
    "Oft weißen uns diese Fehlermeldungen auf Fehler in unserem Programm hin.\n",
    "Manchmal können aber auch falsche Benutzereingaben einen Fehler produzieren.\n",
    "Solche Fehler sind für den Anwender sehr ärgerlich und es empfiehlt sich daher,\n",
    "das Programm so zu schreiben, dass mögliche Fehler \"abgefangen\" werden."
   ]
  },
  {
   "cell_type": "markdown",
   "metadata": {},
   "source": [
    "## Abfangen von gezielten Fehlermeldungen\n",
    "Kommt es innerhalb des **try** Blocks zu einem \"ModuleNotFoundError\", wird der try Block an dieser STelle abgebrochen und der except Block wird ausgeführt.'"
   ]
  },
  {
   "cell_type": "code",
   "execution_count": 1,
   "metadata": {},
   "outputs": [
    {
     "name": "stdout",
     "output_type": "stream",
     "text": [
      "Hat wohl nicht geklappt; Ein solches Modul kenne ich nicht \n"
     ]
    }
   ],
   "source": [
    "try:\n",
    "    import kenn_ich_nicht as fake\n",
    "    print(\"Wenn diese Ausgabe ausgegeben wird, dann hats geklappt :-)\")\n",
    "except(ModuleNotFoundError):  # Wird ausgeführt, wenn unter \"try\" ein \"ModuleNotFoundError\" Error vorkommt\n",
    "    print(\"Hat wohl nicht geklappt; Ein solches Modul kenne ich nicht \")"
   ]
  },
  {
   "cell_type": "code",
   "execution_count": null,
   "metadata": {},
   "outputs": [],
   "source": [
    "# Versuche das ganze, mit einem Modul import, der funktionieren sollte"
   ]
  },
  {
   "cell_type": "code",
   "execution_count": 23,
   "metadata": {},
   "outputs": [
    {
     "name": "stdin",
     "output_type": "stream",
     "text": [
      "Bitte Zahl eingeben 0\n"
     ]
    },
    {
     "name": "stdout",
     "output_type": "stream",
     "text": [
      "Teilung durch 0\n"
     ]
    }
   ],
   "source": [
    "# Es können auch mehrere verschiedene Fehler abgefangen werden.\n",
    "try:\n",
    "    x=int(input(\"Bitte Zahl eingeben\"))\n",
    "    y=1/x\n",
    "except(ValueError):\n",
    "    print(\"Das war keine Zahl!\")\n",
    "except(ZeroDivisionError):\n",
    "    print(\"Teilung durch 0\")"
   ]
  },
  {
   "cell_type": "markdown",
   "metadata": {},
   "source": [
    "# Abfangen von jeglichen Fehlermeldungen\n",
    "Wenn nach except keine gezielte Fehlermeldung angegeben ist, wird der except Block bei jeglicher Fehlermeldung ausgeführt."
   ]
  },
  {
   "cell_type": "code",
   "execution_count": 26,
   "metadata": {},
   "outputs": [
    {
     "name": "stdin",
     "output_type": "stream",
     "text": [
      "Bitte Zahl eingeben 0\n"
     ]
    },
    {
     "name": "stdout",
     "output_type": "stream",
     "text": [
      "Something went wrong =/\n"
     ]
    }
   ],
   "source": [
    "try:\n",
    "    x=int(input(\"Bitte Zahl eingeben\"))\n",
    "    y=1/x\n",
    "    print(\"der Kehrwert von\",x,\"ist\",y)\n",
    "except:\n",
    "    print(\"Something went wrong =/\")"
   ]
  },
  {
   "cell_type": "markdown",
   "metadata": {},
   "source": [
    "## Zugriff auf die Fehlermeldung\n",
    "Kommt es zu einem Fehler, wird eine Fehlermeldung produziert. Im folgenden wird die Fehlermeldung in der Variable e gespeichert, welche später ausgegeben wird."
   ]
  },
  {
   "cell_type": "code",
   "execution_count": 28,
   "metadata": {},
   "outputs": [
    {
     "name": "stdin",
     "output_type": "stream",
     "text": [
      "Bitte Zahl eingeben 0\n"
     ]
    },
    {
     "name": "stdout",
     "output_type": "stream",
     "text": [
      "division by zero\n"
     ]
    }
   ],
   "source": [
    "try:\n",
    "    x=int(input(\"Bitte Zahl eingeben\"))\n",
    "    y=1/x\n",
    "    print(\"der Kehrwert von\",x,\"ist\",y)\n",
    "except Exception as e:\n",
    "    print(e)"
   ]
  },
  {
   "cell_type": "markdown",
   "metadata": {},
   "source": [
    "## Der finally Block\n",
    "Optional kann ein finally Block hinzugefügt werden. Dieser wird immer ausgeführt!"
   ]
  },
  {
   "cell_type": "code",
   "execution_count": 31,
   "metadata": {},
   "outputs": [
    {
     "name": "stdin",
     "output_type": "stream",
     "text": [
      "Bitte Zahl eingeben 7\n"
     ]
    },
    {
     "name": "stdout",
     "output_type": "stream",
     "text": [
      "der Kehrwert von 7 ist 0.14285714285714285\n",
      "Ich werde immer ausgefühert =)\n"
     ]
    }
   ],
   "source": [
    "try:\n",
    "    x=int(input(\"Bitte Zahl eingeben\"))\n",
    "    y=1/x\n",
    "    print(\"der Kehrwert von\",x,\"ist\",y)\n",
    "except:\n",
    "    print(\"Something went wrong =/\")\n",
    "\n",
    "print(\"Ich werde immer ausgefühert =)\")"
   ]
  },
  {
   "cell_type": "markdown",
   "metadata": {},
   "source": [
    "**Aufgabe 1:**  \n",
    "Schreibe folgenden Code so, dass es zu keiner Fehlermeldung kommt, wenn eine falsche Eingabe betätigt wird. Nach einer falschen Eingabe sollen evtl. weitere Zahlen eingegeben werden können."
   ]
  },
  {
   "cell_type": "code",
   "execution_count": 8,
   "metadata": {},
   "outputs": [
    {
     "name": "stdin",
     "output_type": "stream",
     "text": [
      "Bitte Zahl eingeben: 5\n",
      "Bitte Zahl eingeben: 9\n",
      "Bitte Zahl eingeben: v\n"
     ]
    },
    {
     "ename": "ValueError",
     "evalue": "invalid literal for int() with base 10: 'v'",
     "output_type": "error",
     "traceback": [
      "\u001b[1;31m---------------------------------------------------------------------------\u001b[0m",
      "\u001b[1;31mValueError\u001b[0m                                Traceback (most recent call last)",
      "\u001b[1;32m<ipython-input-8-ea5f2e91c7f7>\u001b[0m in \u001b[0;36m<module>\u001b[1;34m\u001b[0m\n\u001b[0;32m      1\u001b[0m \u001b[0mliste\u001b[0m\u001b[1;33m=\u001b[0m\u001b[1;33m[\u001b[0m\u001b[1;33m]\u001b[0m\u001b[1;33m\u001b[0m\u001b[1;33m\u001b[0m\u001b[0m\n\u001b[0;32m      2\u001b[0m \u001b[1;32mfor\u001b[0m \u001b[0mi\u001b[0m \u001b[1;32min\u001b[0m \u001b[0mrange\u001b[0m\u001b[1;33m(\u001b[0m\u001b[1;36m10\u001b[0m\u001b[1;33m)\u001b[0m\u001b[1;33m:\u001b[0m\u001b[1;33m\u001b[0m\u001b[1;33m\u001b[0m\u001b[0m\n\u001b[1;32m----> 3\u001b[1;33m     \u001b[0mx\u001b[0m\u001b[1;33m=\u001b[0m\u001b[0mint\u001b[0m\u001b[1;33m(\u001b[0m\u001b[0minput\u001b[0m\u001b[1;33m(\u001b[0m\u001b[1;34m\"Bitte Zahl eingeben:\"\u001b[0m\u001b[1;33m)\u001b[0m\u001b[1;33m)\u001b[0m\u001b[1;33m\u001b[0m\u001b[1;33m\u001b[0m\u001b[0m\n\u001b[0m\u001b[0;32m      4\u001b[0m     \u001b[0mliste\u001b[0m\u001b[1;33m.\u001b[0m\u001b[0mappend\u001b[0m\u001b[1;33m(\u001b[0m\u001b[0mx\u001b[0m\u001b[1;33m)\u001b[0m\u001b[1;33m\u001b[0m\u001b[1;33m\u001b[0m\u001b[0m\n",
      "\u001b[1;31mValueError\u001b[0m: invalid literal for int() with base 10: 'v'"
     ]
    }
   ],
   "source": [
    "liste=[]\n",
    "for i in range(10):\n",
    "    x=int(input(\"Bitte Zahl eingeben:\"))\n",
    "    liste.append(x)"
   ]
  },
  {
   "cell_type": "markdown",
   "metadata": {},
   "source": [
    "**Aufgabe 2:**  \n",
    "Schreibe Aufgabe 1 so, dass die Liste am Ende 10 Zahlen beinhaltet."
   ]
  },
  {
   "cell_type": "markdown",
   "metadata": {},
   "source": [
    "**Aufgabe 3:**  \n",
    "Welche Fehler können bei der Arduino Python seriellen Verbindung auftretten?\n",
    "Schreibe dein Code von letzter Woche so, dass mögliche Fehler abgefangen werden."
   ]
  },
  {
   "cell_type": "code",
   "execution_count": null,
   "metadata": {},
   "outputs": [],
   "source": []
  }
 ],
 "metadata": {
  "kernelspec": {
   "display_name": "Python 3",
   "language": "python",
   "name": "python3"
  },
  "language_info": {
   "codemirror_mode": {
    "name": "ipython",
    "version": 3
   },
   "file_extension": ".py",
   "mimetype": "text/x-python",
   "name": "python",
   "nbconvert_exporter": "python",
   "pygments_lexer": "ipython3",
   "version": "3.8.3"
  }
 },
 "nbformat": 4,
 "nbformat_minor": 4
}

{
 "cells": [
  {
   "cell_type": "markdown",
   "metadata": {},
   "source": [
    "# Funktionen\n",
    "![Bild](https://raw.githubusercontent.com/sttoraus/Teaching-/master/funk.png)  \n",
    "In den vorherigen Kapiteln haben wir immer wieder auf Funktionen zurückgegriffen, welche uns von Python zur Verfügung gestellt wurden. Wenn du beispielsweise den Befehl len() eingibst, erhältst du von der Funktion len() die Länge einer Liste oder einer Zeichenkette."
   ]
  },
  {
   "cell_type": "markdown",
   "metadata": {},
   "source": [
    "In diesem Kapitel besprechen wir, wie man selbest solche Funktionen definieren kann. Es gibt verschiedene Gründe, warum es Sinn macht Funktionen zu definieren.\n",
    "\n",
    "    1. Mehrer hintereinander ausgeführte Anweisungen können unter einem Namen zusammengefasst werden. Es kann also als Strukturierungselement angesehen werden, das eine Menge von Anweisungen gruppiert.\n",
    "\n",
    "    2. Ein längeres Programm erhält durch Funktionen eine Struktur, welche helfen kann, den Code besser lesen und verstehen zu können.\n",
    "\n",
    "    3. Ein Funktionsname kann dabei helfen zu verstehen, was das Unterprogramm berechnet oder ausführt.\n",
    "\n",
    "    4. Muss eine Codesequenz mehr als einmal ausgeführt werden, so braucht man nur den Funktionsnamen aufzurufen (Vermeidung von Codeduplizität).\n"
   ]
  },
  {
   "cell_type": "markdown",
   "metadata": {},
   "source": [
    "## Eine Funktion ohne Rückgabewert definieren"
   ]
  },
  {
   "cell_type": "markdown",
   "metadata": {},
   "source": [
    "Mit dem Keyword def führen wir eine neue Funktion ein. Nach der Anweisung def steht der Name der Funktion, gefolgt von runden Klammern (). In der Klammer () werden die Argumente, falls welche verlangt, aufgelistet. Zum Schluss kommt noch der obligate Doppelpunkt :. Die darauffolgende Zeilen müssen wie üblich eingerückt sein, ansonsten gehören sie nicht mehr zur Funktion."
   ]
  },
  {
   "cell_type": "code",
   "execution_count": 9,
   "metadata": {},
   "outputs": [
    {
     "name": "stdout",
     "output_type": "stream",
     "text": [
      "Hallo, Sie haben die Begrüßung gewählt\n",
      "Beehren Sie uns bald wieder\n"
     ]
    }
   ],
   "source": [
    "def hallo():   # Anlegen der Funktion \"Hallo\"\n",
    "    print(\"Hallo, Sie haben die Begrüßung gewählt\")\n",
    "    print(\"Beehren Sie uns bald wieder\")\n",
    "hallo()         # 1. Aufruf der Funktion\n"
   ]
  },
  {
   "cell_type": "code",
   "execution_count": 10,
   "metadata": {},
   "outputs": [
    {
     "name": "stdout",
     "output_type": "stream",
     "text": [
      "Hallo, Sie haben die Begrüßung gewählt\n",
      "Beehren Sie uns bald wieder\n"
     ]
    }
   ],
   "source": [
    "hallo() # Erneuter Aufruf der Funktion"
   ]
  },
  {
   "cell_type": "markdown",
   "metadata": {},
   "source": [
    "### Übergabe eins Werts/ einer Variable an eine Funktion"
   ]
  },
  {
   "cell_type": "code",
   "execution_count": 7,
   "metadata": {},
   "outputs": [
    {
     "name": "stdin",
     "output_type": "stream",
     "text": [
      "Bitte Zahl eingeben 5\n"
     ]
    },
    {
     "name": "stdout",
     "output_type": "stream",
     "text": [
      "5 mal 5 ergibt 25\n"
     ]
    }
   ],
   "source": [
    "def quadrieren(a):          # anlegen der Funktion mit dem Parameter a\n",
    "    print(a,\"mal\",a,\"ergibt\",a*a)\n",
    "\n",
    "x=int(input(\"Bitte Zahl eingeben\"))\n",
    "quadrieren(x)\n"
   ]
  },
  {
   "cell_type": "markdown",
   "metadata": {},
   "source": [
    "#### Aufgaben:\n",
    "1. Ändere die Funktion so, dass der eingegebene Name mit ausgegeben wird"
   ]
  },
  {
   "cell_type": "code",
   "execution_count": 11,
   "metadata": {},
   "outputs": [
    {
     "ename": "SyntaxError",
     "evalue": "invalid syntax (<ipython-input-11-f65d99566ba5>, line 2)",
     "output_type": "error",
     "traceback": [
      "\u001b[1;36m  File \u001b[1;32m\"<ipython-input-11-f65d99566ba5>\"\u001b[1;36m, line \u001b[1;32m2\u001b[0m\n\u001b[1;33m    print(\"Hallo,\",,\" wie geht es dir\")\u001b[0m\n\u001b[1;37m                   ^\u001b[0m\n\u001b[1;31mSyntaxError\u001b[0m\u001b[1;31m:\u001b[0m invalid syntax\n"
     ]
    }
   ],
   "source": [
    "def hallo():   # Anlegen der Funktion \"Hallo\"\n",
    "    print(\"Hallo,\",,\" wie geht es dir\")\n",
    "name=input(\"Wie heiß du?\")\n",
    "hallo(name)         # 1. Aufruf der Funktion\n"
   ]
  },
  {
   "cell_type": "markdown",
   "metadata": {},
   "source": [
    "## Eine Funktion mit mehreren Parametern\n",
    "Es können auch mehrere Parameter definiert werden. Diese müsen durch ein Komma getrennt werden."
   ]
  },
  {
   "cell_type": "code",
   "execution_count": 12,
   "metadata": {},
   "outputs": [
    {
     "name": "stdout",
     "output_type": "stream",
     "text": [
      "Hallo Karl . Diese Ausgabe erfolgt 6 mal\n",
      "Hallo Karl . Diese Ausgabe erfolgt 6 mal\n",
      "Hallo Karl . Diese Ausgabe erfolgt 6 mal\n",
      "Hallo Karl . Diese Ausgabe erfolgt 6 mal\n",
      "Hallo Karl . Diese Ausgabe erfolgt 6 mal\n",
      "Hallo Karl . Diese Ausgabe erfolgt 6 mal\n"
     ]
    }
   ],
   "source": [
    "def ansage(name,anzahl):\n",
    "    for i in range(anzahl):\n",
    "        print(\"Hallo\",name,\". Diese Ausgabe erfolgt\",anzahl,\"mal\")\n",
    "ansage(\"Karl\",6)"
   ]
  },
  {
   "cell_type": "markdown",
   "metadata": {},
   "source": [
    "2. Erstelle eine Funktion \"multiplizieren\". Es sollen 2 Werte übergeben werden und als Ausgabe soll das Produkt der beiden Zahlen ausgegeben werden. "
   ]
  },
  {
   "cell_type": "code",
   "execution_count": null,
   "metadata": {},
   "outputs": [],
   "source": []
  },
  {
   "cell_type": "markdown",
   "metadata": {},
   "source": [
    "### Eine Funktion mit Rückgabewert definieren\n",
    "Unsere selbst geschriebenen Funktionen von oben haben bisher die Resultate lediglich auf der Konsole ausgegeben. Jedoch kann es sein, dass die Ergebnisse für den weiteren Programmverlauf gebraucht und weiter verarbeitet werden müssen. In solchen Fällen macht es Sinn Funktionen zu definieren, welche mir Ergebnis zurückgeben, wie z.B."
   ]
  },
  {
   "cell_type": "code",
   "execution_count": 7,
   "metadata": {},
   "outputs": [
    {
     "name": "stdin",
     "output_type": "stream",
     "text": [
      "Bitte Zahl eingeben 4\n"
     ]
    },
    {
     "name": "stdout",
     "output_type": "stream",
     "text": [
      "16\n"
     ]
    }
   ],
   "source": [
    "def quadrieren(a):          # anlegen der Funktion mit dem Parameter a\n",
    "     return a*a\n",
    "\n",
    "x=int(input(\"Bitte Zahl eingeben\"))\n",
    "wert=quadrieren(x)\n",
    "print(wert)"
   ]
  },
  {
   "cell_type": "markdown",
   "metadata": {},
   "source": [
    "#### Aufgabe:\n",
    "Es können auch Listen übergeben werden. Ändere folgenden Code so, dass die Berechnung in einer Funktion erfolgt. Die Variable \"wert\" soll mittels return zurück gegeben werden."
   ]
  },
  {
   "cell_type": "code",
   "execution_count": 13,
   "metadata": {},
   "outputs": [
    {
     "name": "stdout",
     "output_type": "stream",
     "text": [
      "es wurden 80.0 Prozent richtig erkannt\n"
     ]
    }
   ],
   "source": [
    "ist=['Hund','Katze','Hund','Hund','Hund','Hund', 'Katze','Katze','Katze','Hund']\n",
    "soll=['Hund','Katze','Katze','Hund','Hund','Hund', 'Katze','Katze','Katze','Katze']\n",
    "laenge=len(ist)\n",
    "richtig=0\n",
    "for i in range(laenge):\n",
    "    if(ist[i]==soll[i]):\n",
    "        richtig=richtig+1\n",
    "wert= richtig/laenge*100\n",
    "print(\"es wurden\",wert,\"Prozent richtig erkannt\")\n",
    "\n",
    "        "
   ]
  },
  {
   "cell_type": "code",
   "execution_count": null,
   "metadata": {},
   "outputs": [],
   "source": []
  },
  {
   "cell_type": "markdown",
   "metadata": {},
   "source": [
    "Sie möchten in den Ferien mit dem Auto in den Urlaub fahren. Schreiben Sie ein Programm, das die Benzinkosten für Ihre Urlaubsfahrt berechnet. \n",
    "Da die Berechnung der gesamten Benzinkosten etwas länger bzw. komplexer ist als die bisherigen Berechnungen, soll diese Berechnung in eine eigene Funktion ausgelagert werden.\n",
    "Folgende Parameter soll diese Funktion erhalten: Benzinpreis, Verbrauch des Autos, Länge der Strecke.\n",
    "Die Benzinkosten sollen am Bildschirm ausgegeben und zusätzlich als Variable zurückgegeben werden."
   ]
  },
  {
   "cell_type": "code",
   "execution_count": null,
   "metadata": {},
   "outputs": [],
   "source": []
  },
  {
   "cell_type": "code",
   "execution_count": null,
   "metadata": {},
   "outputs": [],
   "source": []
  },
  {
   "cell_type": "markdown",
   "metadata": {},
   "source": [
    "Übungsaufgaben:\n",
    "1. Erstelle eine Funktion \"durchschnitt\", welche als Parameter eine Liste erhält. Die Funktion soll den Durchschnitt der Elemente der Liste berechnen und diesen zurück geben.\n",
    "2. Erstelle eine Funktion \"maximum\", welche als Parameter eine Liste erhält. Die Funktion soll den größen Wert innerhalb der Liste bestimmen und diesen zurück geben.\n",
    "2. Erstelle eine Funktion \"minimum\", welche als Parameter eine Liste erhält. Die Funktion soll den kleinsten Wert innerhalb der Liste bestimmen und diesen zurück geben.\n",
    "\n",
    "Wie du die einzelnen Werte bestimmen kannst, kannst du ggf. [hier](https://moodle.elektronikschule.de/pluginfile.php/57357/mod_folder/content/0/14_Listen_L%C3%B6sung.pdf?forcedownload=1) nachlesen (unten auf Seite 4).  \n",
    "Teste deine Funktionen mit den folgenden Listen"
   ]
  },
  {
   "cell_type": "code",
   "execution_count": 17,
   "metadata": {},
   "outputs": [],
   "source": [
    "messdaten1=[3.4,5.0,6.0,4.6,5,4,3,2.1,6,3.2,3,5]\n",
    "messdaten2=[2,3,4,5,2,3,4,5,2,4,44,6,3,5,3,5,3,3,5,6,2,4,5,6,]\n",
    "messdaten3=[0.1,0.4,0.5,1,-0.5]\n"
   ]
  },
  {
   "cell_type": "code",
   "execution_count": null,
   "metadata": {},
   "outputs": [],
   "source": []
  },
  {
   "cell_type": "markdown",
   "metadata": {},
   "source": [
    "Quelle: https://pythonbuch.com/funktion.html"
   ]
  },
  {
   "cell_type": "code",
   "execution_count": 27,
   "metadata": {},
   "outputs": [],
   "source": []
  },
  {
   "cell_type": "code",
   "execution_count": null,
   "metadata": {},
   "outputs": [],
   "source": []
  },
  {
   "cell_type": "code",
   "execution_count": null,
   "metadata": {},
   "outputs": [],
   "source": []
  },
  {
   "cell_type": "code",
   "execution_count": null,
   "metadata": {},
   "outputs": [],
   "source": []
  },
  {
   "cell_type": "code",
   "execution_count": null,
   "metadata": {},
   "outputs": [],
   "source": []
  },
  {
   "cell_type": "code",
   "execution_count": null,
   "metadata": {},
   "outputs": [],
   "source": []
  },
  {
   "cell_type": "code",
   "execution_count": null,
   "metadata": {},
   "outputs": [],
   "source": []
  },
  {
   "cell_type": "code",
   "execution_count": null,
   "metadata": {},
   "outputs": [],
   "source": []
  },
  {
   "cell_type": "code",
   "execution_count": null,
   "metadata": {},
   "outputs": [],
   "source": [
    "\n"
   ]
  },
  {
   "cell_type": "code",
   "execution_count": null,
   "metadata": {},
   "outputs": [],
   "source": []
  },
  {
   "cell_type": "code",
   "execution_count": null,
   "metadata": {},
   "outputs": [],
   "source": []
  },
  {
   "cell_type": "code",
   "execution_count": null,
   "metadata": {},
   "outputs": [],
   "source": []
  }
 ],
 "metadata": {
  "kernelspec": {
   "display_name": "Python 3",
   "language": "python",
   "name": "python3"
  },
  "language_info": {
   "codemirror_mode": {
    "name": "ipython",
    "version": 3
   },
   "file_extension": ".py",
   "mimetype": "text/x-python",
   "name": "python",
   "nbconvert_exporter": "python",
   "pygments_lexer": "ipython3",
   "version": "3.8.3"
  }
 },
 "nbformat": 4,
 "nbformat_minor": 4
}

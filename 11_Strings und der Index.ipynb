{
 "cells": [
  {
   "cell_type": "markdown",
   "metadata": {},
   "source": [
    "# Strings\n",
    "Über den Index kann auf einzelne Zeichen einer Zeichenkette zugegriffen werden. **Achtung:** Der Index beginnt mit 0!"
   ]
  },
  {
   "cell_type": "code",
   "execution_count": 14,
   "metadata": {},
   "outputs": [
    {
     "name": "stdout",
     "output_type": "stream",
     "text": [
      "1\n",
      "2\n",
      "9\n"
     ]
    }
   ],
   "source": [
    "txt=\"123456789\"\n",
    "print(txt[0])   # Ausgabe des ersten Zeichens\n",
    "print(txt[1])   # Ausgabe des zweiten Zeichens\n",
    "print(txt[8])"
   ]
  },
  {
   "cell_type": "markdown",
   "metadata": {},
   "source": [
    "## Die len() Funktion\n",
    "Mit der Funktion len() kann die Anzahl der Zeichen in einer Zeichenkette bestimmt werden."
   ]
  },
  {
   "cell_type": "code",
   "execution_count": 15,
   "metadata": {},
   "outputs": [
    {
     "name": "stdout",
     "output_type": "stream",
     "text": [
      "Die Zeichenkette besteht aus 16 Zeichen\n"
     ]
    }
   ],
   "source": [
    "zeichenkette=\"Das ist ein Text\"\n",
    "anzahl=len(zeichenkette)\n",
    "print(\"Die Zeichenkette besteht aus\",anzahl,\"Zeichen\")"
   ]
  },
  {
   "cell_type": "markdown",
   "metadata": {},
   "source": [
    "## Zugriff auf das letzte Zeichen:"
   ]
  },
  {
   "cell_type": "code",
   "execution_count": 19,
   "metadata": {},
   "outputs": [
    {
     "name": "stdout",
     "output_type": "stream",
     "text": [
      "!\n"
     ]
    }
   ],
   "source": [
    "zeichenkette=\"Text!\"\n",
    "print(zeichenkette[len(zeichenkette)-1])"
   ]
  },
  {
   "cell_type": "markdown",
   "metadata": {},
   "source": [
    "## Ausgabe eines Teilstrings mit einer while-Schleife!"
   ]
  },
  {
   "cell_type": "code",
   "execution_count": 20,
   "metadata": {},
   "outputs": [
    {
     "name": "stdout",
     "output_type": "stream",
     "text": [
      "Das"
     ]
    }
   ],
   "source": [
    "text=\"Das ist eine lange Zeichenkette mit neuer anzahl\"\n",
    "zahl=0  # start\n",
    "ende=3  # ende\n",
    "while(zahl<ende):\n",
    "    print(text[zahl],end=\"\")\n",
    "    zahl=zahl+1"
   ]
  },
  {
   "cell_type": "code",
   "execution_count": null,
   "metadata": {},
   "outputs": [],
   "source": []
  },
  {
   "cell_type": "code",
   "execution_count": null,
   "metadata": {},
   "outputs": [],
   "source": []
  },
  {
   "cell_type": "code",
   "execution_count": null,
   "metadata": {},
   "outputs": [],
   "source": []
  },
  {
   "cell_type": "code",
   "execution_count": null,
   "metadata": {},
   "outputs": [],
   "source": []
  }
 ],
 "metadata": {
  "kernelspec": {
   "display_name": "Python 3",
   "language": "python",
   "name": "python3"
  },
  "language_info": {
   "codemirror_mode": {
    "name": "ipython",
    "version": 3
   },
   "file_extension": ".py",
   "mimetype": "text/x-python",
   "name": "python",
   "nbconvert_exporter": "python",
   "pygments_lexer": "ipython3",
   "version": "3.8.3"
  }
 },
 "nbformat": 4,
 "nbformat_minor": 5
}

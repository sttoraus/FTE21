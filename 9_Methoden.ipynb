{
 "cells": [
  {
   "cell_type": "markdown",
   "metadata": {},
   "source": [
    "# Methoden von Strings\n",
    "Sie haben bereits gelernt, dass Texte und Zeichenkette in einer Variable vom Typ String gespeichert werden können."
   ]
  },
  {
   "cell_type": "code",
   "execution_count": null,
   "metadata": {},
   "outputs": [],
   "source": [
    "# Führen Sie folgende Codezeile aus\n",
    "text=\"Hallo FTE\"\n",
    "print(type(text))"
   ]
  },
  {
   "cell_type": "markdown",
   "metadata": {},
   "source": [
    "Doch wofür steht das \"class\" vor der Abkürzung \"str\"?  \n",
    "In Wahrheit ist Python eine objektorientierte Programmiersprache und Sie arbeiten ständig mit sogenanten Objekten. Bei der obigen Variable \"text\" handelt es sich tatsächlich um eine Objekt der Klasse str (String).   "
   ]
  },
  {
   "cell_type": "markdown",
   "metadata": {},
   "source": [
    "## Was ist eine Klasse?\n",
    "Eine Klasse ist allgemein eine Gruppe von Dingen, die gemeinsame Merkmale oder Eigenschaften haben. Somit werden z.B. alle Variablen, welche Texte oder Zeichenketten beinhalten, in der Klasse str zusammen gefasst. Klassen besitzen Möglichkeiten, welche auch Methoden genannt werden. "
   ]
  },
  {
   "cell_type": "markdown",
   "metadata": {},
   "source": [
    "Die wirkliche Kunst liegt darin zu wissen, welche Objekte welche Möglichkeiten (sprich Methoden) bieten. Welche Methoden einer Klasse zur Verfügung stehen, kann mit der **help()** Funktion ausgelesen werden."
   ]
  },
  {
   "cell_type": "code",
   "execution_count": null,
   "metadata": {},
   "outputs": [],
   "source": [
    "help(str)"
   ]
  },
  {
   "cell_type": "markdown",
   "metadata": {},
   "source": [
    "Wie Sie sehen, gibt es hier sehr viele Methoden für die Klasse String. **Wir beschränken uns allerdings auf die Methoden, welche nicht mit \"__\" beginnen und enden!** \n",
    "Wenn Sie nun eine Methode der Klasse String verwenden möchten, müssen Sie auch hier die Syntax beachten."
   ]
  },
  {
   "cell_type": "markdown",
   "metadata": {},
   "source": [
    "## Syntax von Methoden\n",
    "Wir haben unser Objekt, was an erster Stelle steht und wollen für dieses Objekt etwas abfragen bzw. eine festgelegte Methode ausführen:  \n",
    "Die Methode wird über einen Punkt direkt dahinter gepackt.  \n",
    "\n",
    "\n",
    "**Objekt.Methode()**  \n",
    "Objekt: In diesem Fall der Variablenname.  \n",
    "Methode: Möglichkeit der Klasse str, welche verwendet werden soll."
   ]
  },
  {
   "cell_type": "code",
   "execution_count": null,
   "metadata": {},
   "outputs": [],
   "source": [
    "# Beispiel für die Methode upper (Returns a copy of the string converted to uppercase)\n",
    "test=\"Das ist ein Beispiel!\"\n",
    "print(test.upper())"
   ]
  },
  {
   "cell_type": "markdown",
   "metadata": {},
   "source": [
    "Hinweis:\n",
    "Der Inhalt der Variable wurde nicht verändert! Siehe:\n"
   ]
  },
  {
   "cell_type": "code",
   "execution_count": null,
   "metadata": {},
   "outputs": [],
   "source": [
    "test=\"Das ist ein Beispiel!\"\n",
    "print(test.upper())\n",
    "print(test)"
   ]
  },
  {
   "cell_type": "markdown",
   "metadata": {},
   "source": [
    "Sie können sich aber das Ergebnis der Methode speichern. Dazu benötigen Sie eine Variable."
   ]
  },
  {
   "cell_type": "code",
   "execution_count": null,
   "metadata": {},
   "outputs": [],
   "source": [
    "test=\"Das ist ein Beispiel!\"\n",
    "neuerTest=test.upper()\n",
    "print(test)\n",
    "print(neuerTest)"
   ]
  },
  {
   "cell_type": "markdown",
   "metadata": {},
   "source": [
    "## Aufgaben:\n",
    "1. Finden Sie eine Methode, welche aus kleinen Buchstaben große Buchstaben macht.\n",
    "2. Verwende die Methode um den Text aus folgender Variable großgeschrieben zu speichern."
   ]
  },
  {
   "cell_type": "code",
   "execution_count": null,
   "metadata": {},
   "outputs": [],
   "source": [
    "text=\"das sollte groß geschrieben werden!!\""
   ]
  },
  {
   "cell_type": "markdown",
   "metadata": {},
   "source": [
    "3. Vervollständigen Sie folgenden Code: Falls die Benutzereingabe keine Zahl sein sollte, soll folgender Text ausgegeben werden: \"Das ist leider keine Zahl\". Nutzen Sie hierfür die \"isdecimal()\" Methode."
   ]
  },
  {
   "cell_type": "code",
   "execution_count": null,
   "metadata": {},
   "outputs": [],
   "source": [
    "zahl=input(\"Bitte zahl eingeben\")"
   ]
  },
  {
   "cell_type": "markdown",
   "metadata": {},
   "source": [
    "\n",
    "4. Nicht nur Strings besitzen Methoden, sondern auch Integer und float Variablen!  Lassen Sie sich die Methoden der Klasse Integer ausgeben.\n",
    "\n",
    "## Zusatzaufgabe\n",
    "Finden Sie eine Methode um alle \"!\" inerhalb eines Strings durch ein Leerzeichen zu ersetzen."
   ]
  },
  {
   "cell_type": "code",
   "execution_count": null,
   "metadata": {},
   "outputs": [],
   "source": [
    "text=\"Hallo!leider!habe!ich!die!falsche!Taste!gedrückt!=/\"\n",
    "print(text)"
   ]
  },
  {
   "cell_type": "code",
   "execution_count": null,
   "metadata": {},
   "outputs": [],
   "source": []
  },
  {
   "cell_type": "code",
   "execution_count": null,
   "metadata": {},
   "outputs": [],
   "source": []
  },
  {
   "cell_type": "code",
   "execution_count": null,
   "metadata": {},
   "outputs": [],
   "source": []
  },
  {
   "cell_type": "code",
   "execution_count": null,
   "metadata": {},
   "outputs": [],
   "source": []
  },
  {
   "cell_type": "code",
   "execution_count": null,
   "metadata": {},
   "outputs": [],
   "source": []
  }
 ],
 "metadata": {
  "kernelspec": {
   "display_name": "Python 3",
   "language": "python",
   "name": "python3"
  },
  "language_info": {
   "codemirror_mode": {
    "name": "ipython",
    "version": 3
   },
   "file_extension": ".py",
   "mimetype": "text/x-python",
   "name": "python",
   "nbconvert_exporter": "python",
   "pygments_lexer": "ipython3",
   "version": "3.8.3"
  }
 },
 "nbformat": 4,
 "nbformat_minor": 4
}

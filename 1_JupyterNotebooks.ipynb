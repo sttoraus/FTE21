{
 "cells": [
  {
   "cell_type": "markdown",
   "metadata": {},
   "source": [
    "# Jupyter Notebooks\n",
    "In Jupyter-Notebooks können sowohl Code, als auch formatierter Text ausgegeben werden.\n",
    "Blöcke, welche formatierten Text enthalten, nennt man \"Markdown\".\n",
    "## Wichtige Tastenkombinationen\n",
    "Hier ein paar Tastenkombinationen, für eine einfachere Bedienung\n",
    "- Ausführen eines Code oder Markdown Blocks: Shift + Enter\n",
    "- Markdown auswählen: ESC + m\n",
    "- Code auswählen: ESC + y\n",
    "- Dateiverzeichnis ausblenden: strg + b"
   ]
  },
  {
   "cell_type": "markdown",
   "metadata": {},
   "source": [
    "# Markdown in Jupyter-Notebooks\n",
    "Dieses Eingabefeld ist ein Markdown-Feld. Du kannst es bearbeiten, indem du darauf klickt und es editierst. Zum Abschluss kannst du dann Shift+Eingabetaste drücken, damit es wieder gerendert wird. Auf diese Weise könntest du zum Beispiel Felhler in diesem Felt beheben, fals du welsche vinten soltest."
   ]
  },
  {
   "cell_type": "markdown",
   "metadata": {},
   "source": [
    "## Aufgabe 1\n",
    "Erstelle in dem folgenden Markdown-Feld eine Todo-Liste mit Dingen, die du in dieser Woche noch erledigen möchtest. Verwende dabei eine Überschrift und eine ungeordnete Liste. Infos [hier](https://www.inf-schule.de/projekte/markdown_latex_jupyter_notebook/markdown/listen)"
   ]
  },
  {
   "cell_type": "code",
   "execution_count": null,
   "metadata": {},
   "outputs": [],
   "source": []
  },
  {
   "cell_type": "code",
   "execution_count": null,
   "metadata": {},
   "outputs": [],
   "source": []
  },
  {
   "cell_type": "markdown",
   "metadata": {},
   "source": [
    "## Aufgabe 2\n",
    "folgendes Bild soll dargestellt werden  [Bild](https://www.onlinehaendler-news.de/images/2017/09/shutterstock_548869246.jpg.jpg).\n",
    "Infos [hier](https://www.inf-schule.de/projekte/markdown_latex_jupyter_notebook/markdown/bilder)"
   ]
  },
  {
   "cell_type": "markdown",
   "metadata": {},
   "source": [
    "---\n",
    "# Python in Jupyter-Notebooks\n",
    "In Jupyter-Notebooks kannst du Pythoncode direkt ausführen. Führe das folgende Python-Feld au, indem du das Feld mit der Maus markierst und anschließend Shift+Eingabetaste drückst."
   ]
  },
  {
   "cell_type": "code",
   "execution_count": null,
   "metadata": {},
   "outputs": [],
   "source": [
    "print(\"Hallo FTE21\")"
   ]
  },
  {
   "cell_type": "markdown",
   "metadata": {},
   "source": [
    "# Ausführungs-Reihenfolge der Python-Felder\n",
    "Bei Jupyter-Notebooks kommt es auf die Reihenfolge an, in der Python-Felder ausgeführt werden.\n",
    "\n",
    "## Aufgabe\n",
    "Führe die folgenden Python-Eingabefelder in unterschiedlicher Reihenfolge aus. Verändere dabei zwischendurch auch immer wieder die Werte der Variablen a und b. Beobachte genau, was dabei passiert."
   ]
  },
  {
   "cell_type": "code",
   "execution_count": null,
   "metadata": {},
   "outputs": [],
   "source": [
    "print(a)"
   ]
  },
  {
   "cell_type": "code",
   "execution_count": null,
   "metadata": {},
   "outputs": [],
   "source": [
    "a=10"
   ]
  },
  {
   "cell_type": "code",
   "execution_count": null,
   "metadata": {},
   "outputs": [],
   "source": [
    "b=20"
   ]
  },
  {
   "cell_type": "code",
   "execution_count": null,
   "metadata": {},
   "outputs": [],
   "source": [
    "print(a)"
   ]
  },
  {
   "cell_type": "code",
   "execution_count": null,
   "metadata": {},
   "outputs": [],
   "source": [
    "print(b)"
   ]
  },
  {
   "cell_type": "markdown",
   "metadata": {},
   "source": [
    "# Aufgabe\n",
    "Halte deine Beobachung aus der obigen Aufgabe in dem folgenden Markdown-Feld fest:"
   ]
  }
 ],
 "metadata": {
  "kernelspec": {
   "display_name": "Python 3",
   "language": "python",
   "name": "python3"
  },
  "language_info": {
   "codemirror_mode": {
    "name": "ipython",
    "version": 3
   },
   "file_extension": ".py",
   "mimetype": "text/x-python",
   "name": "python",
   "nbconvert_exporter": "python",
   "pygments_lexer": "ipython3",
   "version": "3.8.3"
  }
 },
 "nbformat": 4,
 "nbformat_minor": 5
}

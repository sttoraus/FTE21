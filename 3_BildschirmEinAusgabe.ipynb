{
 "cells": [
  {
   "cell_type": "markdown",
   "metadata": {},
   "source": [
    "# Formatierte Textausgaben mit der print() Funktion\n",
    "Mit der print() Funktion kann eine Bildschirmausgabe realisiert werden. Innerhalb einer Printanweisung können mehrere Zeichenketten oder Variablen ausgegeben werden. Die einzelnen Ausdrücke müssen mit einem Komma getrennt werden"
   ]
  },
  {
   "cell_type": "code",
   "execution_count": null,
   "metadata": {},
   "outputs": [],
   "source": [
    "var1=10\n",
    "print(\"Die Variable var1 hat den Wert:\",var1)"
   ]
  },
  {
   "cell_type": "markdown",
   "metadata": {},
   "source": [
    "Führen Sie den nachstehenden Code aus. Was beobachten Sie?"
   ]
  },
  {
   "cell_type": "code",
   "execution_count": null,
   "metadata": {},
   "outputs": [],
   "source": [
    "print(\"Hallo\\nFTET20\")"
   ]
  },
  {
   "cell_type": "code",
   "execution_count": null,
   "metadata": {},
   "outputs": [],
   "source": [
    "print(\"heute ist der:\\t\\t\\t\\t1.10.22\")"
   ]
  },
  {
   "cell_type": "markdown",
   "metadata": {},
   "source": [
    "Merke:\n",
    "\n",
    "\"\\n\" Sprung an den Anfang der folgenden Bildschirmzeile (Zeilenumbruch)\n",
    "\n",
    "\"\\t\" Sprung zur nächsten Tabulatorposition\n",
    "\n",
    "Jede print() Ausgabe wird standartmäßig mit „\\n“ beendet und Variablen bzw. Texte werden mit einem Leerzeichen getrennt!    \n",
    "Die Standarteinstellungen lassen sich über „sep=' '“ und „end=' '“ anpassen. Weitere Infos unter „help(print)“"
   ]
  },
  {
   "cell_type": "markdown",
   "metadata": {},
   "source": [
    "# Bildschirmeingabe\n",
    "Mit folgender Funktion kann eine Benutzereingabe in einer Variable gespeichert werden."
   ]
  },
  {
   "cell_type": "code",
   "execution_count": null,
   "metadata": {},
   "outputs": [],
   "source": [
    "a=input()   # Benutzereingabe wird in der Variable a gespeichert"
   ]
  },
  {
   "cell_type": "markdown",
   "metadata": {},
   "source": [
    "Optinal kann ein Text mit angegeben werden"
   ]
  },
  {
   "cell_type": "code",
   "execution_count": null,
   "metadata": {},
   "outputs": [],
   "source": [
    "b=input(\"Ihre Eingabe bitte\")"
   ]
  },
  {
   "cell_type": "code",
   "execution_count": null,
   "metadata": {},
   "outputs": [],
   "source": []
  },
  {
   "cell_type": "markdown",
   "metadata": {},
   "source": [
    "## Aufgabe 1:  \n",
    "a) Schreiben Sie ein Programm, welches den Benutzer auffordert seinen Namen einzugeben.  \n",
    "Der Benutzer soll danach persönlich begrüßt werden.  \n",
    "b) Die Ausgabe soll in einer Zeile erfolgen"
   ]
  },
  {
   "cell_type": "markdown",
   "metadata": {},
   "source": [
    "## Aufgabe 2:  \n",
    "Vervollständigen Sie das gegebene Programm um eine print-Ausgaben. Verwenden Sie bei der Ausgabe die angegebenen Variablen, um folgende Ausgabe zu erreichen:  \n",
    "Hallo Vorname Nachname,\n",
    "heute ist ein schöner Tag."
   ]
  },
  {
   "cell_type": "code",
   "execution_count": null,
   "metadata": {},
   "outputs": [],
   "source": [
    "# Aufgabe 2\n",
    "vorname=input(\"Bitte geben Sie Ihren Vornamen ein\")\n",
    "nachname=input(\"Bitte geben Sie Ihren Nachnamen ein\")"
   ]
  },
  {
   "cell_type": "markdown",
   "metadata": {},
   "source": []
  },
  {
   "cell_type": "code",
   "execution_count": null,
   "metadata": {},
   "outputs": [],
   "source": [
    "# Aufgabe 4 Ändere die print Anweisungen so ab, dass die Preise auf \"einer Höhe\" ausgegeben werden\"\n",
    "# Hinter dem entsprechenden Preis soll ein Euro Symbol dargestellt werden\n",
    "\n",
    "netto = 14.95\n",
    "mwst = netto * 0.19  \n",
    "brutto = netto + mwst\n",
    "print(\"Mehrwertsteuer Rechner:\")\n",
    "print(\"Netto:\",netto)\n",
    "print(\"MwSt 19%\",\"\",mwst)\n",
    "print(\"Brutto:\",brutto)"
   ]
  },
  {
   "cell_type": "code",
   "execution_count": null,
   "metadata": {},
   "outputs": [],
   "source": [
    "# Aufgabe 5\n",
    "tag = 8  \n",
    "monat = 10   \n",
    "jahr = 2020"
   ]
  },
  {
   "cell_type": "markdown",
   "metadata": {},
   "source": [
    "Gewünschte Ausgabe Heute ist der 8.10.2020"
   ]
  },
  {
   "cell_type": "code",
   "execution_count": null,
   "metadata": {},
   "outputs": [],
   "source": []
  },
  {
   "cell_type": "markdown",
   "metadata": {},
   "source": [
    "Zusatzaufgabe:\n",
    "Die Preise aus Aufgabe 4 sollen auf zwei Nachkommastellen gerundet werden. Nutze hierzu die Funktion \"round()\""
   ]
  },
  {
   "cell_type": "markdown",
   "metadata": {},
   "source": [
    "Zusatzinfo: Weitere Formatierungen möglich https://www.python-kurs.eu/python3_formatierte_ausgabe.php"
   ]
  }
 ],
 "metadata": {
  "kernelspec": {
   "display_name": "Python 3",
   "language": "python",
   "name": "python3"
  },
  "language_info": {
   "codemirror_mode": {
    "name": "ipython",
    "version": 3
   },
   "file_extension": ".py",
   "mimetype": "text/x-python",
   "name": "python",
   "nbconvert_exporter": "python",
   "pygments_lexer": "ipython3",
   "version": "3.8.3"
  }
 },
 "nbformat": 4,
 "nbformat_minor": 4
}

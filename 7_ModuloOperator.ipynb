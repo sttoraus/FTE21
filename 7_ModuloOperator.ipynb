{
 "cells": [
  {
   "cell_type": "markdown",
   "metadata": {},
   "source": [
    "# Der Modulo Operator\n",
    "## Folgende Aufgabenstellung:\n",
    "Schreiben sie einen Algorithmus welcher prüft, ob es sich bei einer Benutzereingabe um ein Schaltjahr handelt oder nicht. Vorgabe: Wenn ein Jahr durch 4 ohne Rest teilbar ist, handelt es sich um ein Schaltjahr.\n",
    "Doch wie kann geprüft werden, ob eine Zahl ohne Rest durch eine andere Zahl geteilt werden kann?  \n",
    "Antwort: Der Modulo Operator! Liefert den ganzzahligen Rest einer Division."
   ]
  },
  {
   "cell_type": "code",
   "execution_count": 7,
   "metadata": {},
   "outputs": [
    {
     "name": "stdout",
     "output_type": "stream",
     "text": [
      "1\n"
     ]
    }
   ],
   "source": [
    "# Beispiel: \n",
    "a=22\n",
    "b=3\n",
    "c=22%3\n",
    "print(c)  # Ausgabe: 1 da 22/3 = 7 REST 1"
   ]
  },
  {
   "cell_type": "code",
   "execution_count": 9,
   "metadata": {},
   "outputs": [
    {
     "name": "stdout",
     "output_type": "stream",
     "text": [
      "0\n"
     ]
    }
   ],
   "source": [
    "a=66\n",
    "b=6\n",
    "c=a%b\n",
    "print(c)   # Ausgabe 0 da 66/6 =6 REST 0"
   ]
  },
  {
   "cell_type": "markdown",
   "metadata": {},
   "source": [
    "## Aufgabe1 :  \n",
    "Schreibe nun den Algorithmus welcher prüft, ob es sich bei einem eingegebenem Jahr um ein Schaltjahr handetl oder nicht."
   ]
  },
  {
   "cell_type": "code",
   "execution_count": null,
   "metadata": {},
   "outputs": [],
   "source": [
    "\n"
   ]
  },
  {
   "cell_type": "markdown",
   "metadata": {},
   "source": [
    "## Aufgabe 2:\n",
    "In Wahrheit gibt es bei der Schaltjahr Rechnung einiger Ausnahmen:\n",
    "- Falls sich die Jahrzahl durch 100 restlos teilen lässt, ist es kein Schaltjahr!  \n",
    "\n",
    "Erweitere deinen Algoritmus aus Aufgabe 1."
   ]
  },
  {
   "cell_type": "code",
   "execution_count": null,
   "metadata": {},
   "outputs": [],
   "source": []
  },
  {
   "cell_type": "markdown",
   "metadata": {},
   "source": [
    "## Aufgabe 3:\n",
    "Kommen wir zur letzte Ausnahme:\n",
    "- Falls sich die Jahrzahl durch 400 restlos teilen lässt, ist es ein Schaltjahr!  \n",
    "\n",
    "Erweitere dein Algorithmus aus Aufgabe 2. Nutze folgenden [Link](https://www.umrechnung.org/zeit-datum-kalender/schaltjahr.htm) um dein Ergebnis zu überprüfen"
   ]
  },
  {
   "cell_type": "code",
   "execution_count": null,
   "metadata": {},
   "outputs": [],
   "source": []
  },
  {
   "cell_type": "markdown",
   "metadata": {},
   "source": [
    "## Zusatzaufgabe:\n",
    "Lösen Sie folgende Aufgabe in Python ![Bild](https://raw.githubusercontent.com/sttoraus/Teaching-/master/modulo.JPG)"
   ]
  },
  {
   "cell_type": "markdown",
   "metadata": {},
   "source": [
    "Hinweis: Bei einem String kann auf einzelne Zeichen zugegriffen werden. \n",
    "Beispiel:"
   ]
  },
  {
   "cell_type": "code",
   "execution_count": 15,
   "metadata": {},
   "outputs": [
    {
     "name": "stdout",
     "output_type": "stream",
     "text": [
      "Der erste Buchstabe lautet:  H\n",
      "Der fünfte Buchstabe ist ein:  o\n"
     ]
    }
   ],
   "source": [
    "zeichenkette=\"Hallo Welt\"\n",
    "print(\"Der erste Buchstabe lautet: \",zeichenkette[0])\n",
    "print(\"Der fünfte Buchstabe ist ein: \",zeichenkette[4])"
   ]
  },
  {
   "cell_type": "code",
   "execution_count": null,
   "metadata": {},
   "outputs": [],
   "source": []
  }
 ],
 "metadata": {
  "kernelspec": {
   "display_name": "Python 3",
   "language": "python",
   "name": "python3"
  },
  "language_info": {
   "codemirror_mode": {
    "name": "ipython",
    "version": 3
   },
   "file_extension": ".py",
   "mimetype": "text/x-python",
   "name": "python",
   "nbconvert_exporter": "python",
   "pygments_lexer": "ipython3",
   "version": "3.8.3"
  }
 },
 "nbformat": 4,
 "nbformat_minor": 4
}

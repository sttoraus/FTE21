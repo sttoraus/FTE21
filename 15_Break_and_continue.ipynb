{
 "cells": [
  {
   "cell_type": "markdown",
   "metadata": {},
   "source": [
    "# break: Schleifenabbruch\n",
    "Schleifen können auch vorzeitig verlassen werden. Mit dem Schlüsselwort break können wir zu jeder Zeit eine Schleife verlassen, ohne auf den Kontrollpunkt warten zu müssen. Die folgende Schleife wird 5 mal durchlaufen, außer der User tippt die Zahl 5 ein."
   ]
  },
  {
   "cell_type": "code",
   "execution_count": 4,
   "metadata": {},
   "outputs": [
    {
     "name": "stdin",
     "output_type": "stream",
     "text": [
      "Bitte Zahl ungleich 5 eingeben 1\n",
      "Bitte Zahl ungleich 5 eingeben 5\n"
     ]
    },
    {
     "name": "stdout",
     "output_type": "stream",
     "text": [
      "Das war die 5 =/\n",
      "Daher verlassen wir nun die Schleife!\n",
      "Das wird immer ausgeführt\n"
     ]
    }
   ],
   "source": [
    "for i in range(5):\n",
    "    x=input(\"Bitte Zahl ungleich 5 eingeben\")\n",
    "    if (x== '5'):\n",
    "        print(\"Das war die 5 =/\")\n",
    "        print(\"Daher verlassen wir nun die Schleife!\")\n",
    "        break\n",
    "print(\"Das wird immer ausgeführt\")"
   ]
  },
  {
   "cell_type": "code",
   "execution_count": 5,
   "metadata": {},
   "outputs": [
    {
     "name": "stdin",
     "output_type": "stream",
     "text": [
      "Bitte Zahl ungleich 5 eingeben 6\n",
      "Bitte Zahl ungleich 5 eingeben 8\n",
      "Bitte Zahl ungleich 5 eingeben 7\n",
      "Bitte Zahl ungleich 5 eingeben 7\n",
      "Bitte Zahl ungleich 5 eingeben 9\n",
      "Bitte Zahl ungleich 5 eingeben 8\n",
      "Bitte Zahl ungleich 5 eingeben 7\n",
      "Bitte Zahl ungleich 5 eingeben 6\n",
      "Bitte Zahl ungleich 5 eingeben 5\n"
     ]
    },
    {
     "name": "stdout",
     "output_type": "stream",
     "text": [
      "Das war die 5 =)\n",
      "Wir verlassen nun die Dauerschleife\n"
     ]
    }
   ],
   "source": [
    "# Geht auch bei while-Schleifen\n",
    "while(True):    \n",
    "    x=input(\"Bitte Zahl ungleich 5 eingeben\")\n",
    "    if (x== '5'):\n",
    "        print(\"Das war die 5 =)\")\n",
    "        print(\"Wir verlassen nun die Dauerschleife\")\n",
    "        break"
   ]
  },
  {
   "cell_type": "markdown",
   "metadata": {},
   "source": [
    "# continue: Schleifenfortführung\n",
    "Mit \"continue\" wird nur der aktuelle Schleifenzyklus beendet, und es geht mit dem nächsten weiter."
   ]
  },
  {
   "cell_type": "code",
   "execution_count": 6,
   "metadata": {},
   "outputs": [
    {
     "name": "stdout",
     "output_type": "stream",
     "text": [
      "0\n",
      "1\n",
      "2\n",
      "3\n",
      "4\n",
      "Die Zahl 5 wird nicht ausgegeben\n",
      "6\n",
      "7\n",
      "8\n",
      "9\n"
     ]
    }
   ],
   "source": [
    "for i in range(10):\n",
    "    if(i==5):\n",
    "        print(\"Die Zahl 5 wird nicht ausgegeben\")\n",
    "        continue\n",
    "    print(i)"
   ]
  },
  {
   "cell_type": "code",
   "execution_count": null,
   "metadata": {},
   "outputs": [],
   "source": [
    "# Aufgabe 1\n",
    "summe=0\n",
    "for i in range(20):\n",
    "    print(\"Schleifendurchlauf: \",i)  #1\n",
    "    summe+=i\n",
    "    print(\"Summe\",summe)\n",
    "\n",
    "# 1. Wenn der Schleifendurchlauf gerade ist --> continue (Modulo Operator verwenden)\n",
    "# 2. Wenn die Summe größer 35 ist, soll die Schleife abgebrochen werden\n",
    "# Änderungen sollen nur innerhalb der Schleife vorgenommen werden"
   ]
  },
  {
   "cell_type": "markdown",
   "metadata": {},
   "source": [
    "## Aufgabe 2\n",
    "Erweitern Sie den Code so, dass der Benutzer solange eine Eingabe betätigt, bis tatsächlich eine Zahl eingegeben wurde!"
   ]
  },
  {
   "cell_type": "code",
   "execution_count": 7,
   "metadata": {},
   "outputs": [
    {
     "name": "stdin",
     "output_type": "stream",
     "text": [
      "Bitte Zahl eingeben g\n"
     ]
    },
    {
     "name": "stdout",
     "output_type": "stream",
     "text": [
      "Das war keine Zahl\n"
     ]
    }
   ],
   "source": [
    "eingabe=input(\"Bitte Zahl eingeben\")\n",
    "if(eingabe.isdecimal()):\n",
    "    eingabe=int(eingabe)\n",
    "    print(\"Sie haben die Zahl\",eingabe,\"eingegeben\")\n",
    "else:\n",
    "    print(\"Das war keine Zahl\")"
   ]
  },
  {
   "cell_type": "markdown",
   "metadata": {},
   "source": [
    "## Zusatzaufgabe\n",
    "- Erweitern Sie das Zahelnratenspiel so, dass das Spiel beendet ist, wenn die Zahl nach 10 Versuchen nicht erraten wurde.\n",
    "- Erweitern Sie das Spiel so, dass es zu keinem Fehler kommt, falls der Benutzer keine Zahl eintippt."
   ]
  },
  {
   "cell_type": "code",
   "execution_count": 1,
   "metadata": {},
   "outputs": [
    {
     "name": "stdin",
     "output_type": "stream",
     "text": [
      "Welche Zahl tippen Sie? 3\n"
     ]
    },
    {
     "name": "stdout",
     "output_type": "stream",
     "text": [
      "Das war zuwenig\n"
     ]
    },
    {
     "name": "stdin",
     "output_type": "stream",
     "text": [
      "Welche Zahl tippen Sie? 8\n"
     ]
    },
    {
     "name": "stdout",
     "output_type": "stream",
     "text": [
      "Das war zuwenig\n"
     ]
    },
    {
     "name": "stdin",
     "output_type": "stream",
     "text": [
      "Welche Zahl tippen Sie? 9\n"
     ]
    },
    {
     "name": "stdout",
     "output_type": "stream",
     "text": [
      "Das war zuwenig\n"
     ]
    },
    {
     "name": "stdin",
     "output_type": "stream",
     "text": [
      "Welche Zahl tippen Sie? 500\n"
     ]
    },
    {
     "name": "stdout",
     "output_type": "stream",
     "text": [
      "Das war zuviel\n"
     ]
    },
    {
     "name": "stdin",
     "output_type": "stream",
     "text": [
      "Welche Zahl tippen Sie? 250\n"
     ]
    },
    {
     "name": "stdout",
     "output_type": "stream",
     "text": [
      "Das war zuwenig\n"
     ]
    },
    {
     "name": "stdin",
     "output_type": "stream",
     "text": [
      "Welche Zahl tippen Sie? 375\n"
     ]
    },
    {
     "name": "stdout",
     "output_type": "stream",
     "text": [
      "Das war zuwenig\n"
     ]
    },
    {
     "name": "stdin",
     "output_type": "stream",
     "text": [
      "Welche Zahl tippen Sie? 450\n"
     ]
    },
    {
     "name": "stdout",
     "output_type": "stream",
     "text": [
      "Das war zuviel\n"
     ]
    },
    {
     "name": "stdin",
     "output_type": "stream",
     "text": [
      "Welche Zahl tippen Sie? 420\n"
     ]
    },
    {
     "name": "stdout",
     "output_type": "stream",
     "text": [
      "Das war zuwenig\n"
     ]
    },
    {
     "name": "stdin",
     "output_type": "stream",
     "text": [
      "Welche Zahl tippen Sie? 435\n"
     ]
    },
    {
     "name": "stdout",
     "output_type": "stream",
     "text": [
      "Das war zuviel\n"
     ]
    },
    {
     "name": "stdin",
     "output_type": "stream",
     "text": [
      "Welche Zahl tippen Sie? 428\n"
     ]
    },
    {
     "name": "stdout",
     "output_type": "stream",
     "text": [
      "Das war zuwenig\n"
     ]
    },
    {
     "name": "stdin",
     "output_type": "stream",
     "text": [
      "Welche Zahl tippen Sie? 432\n"
     ]
    },
    {
     "name": "stdout",
     "output_type": "stream",
     "text": [
      "Das war die gesuchte Zahl! \n",
      "Spiel beendet\n"
     ]
    },
    {
     "name": "stdin",
     "output_type": "stream",
     "text": [
      "Welche Zahl tippen Sie? j\n"
     ]
    },
    {
     "ename": "ValueError",
     "evalue": "invalid literal for int() with base 10: 'j'",
     "output_type": "error",
     "traceback": [
      "\u001b[1;31m---------------------------------------------------------------------------\u001b[0m",
      "\u001b[1;31mValueError\u001b[0m                                Traceback (most recent call last)",
      "\u001b[1;32m<ipython-input-1-3b4942f7e1e2>\u001b[0m in \u001b[0;36m<module>\u001b[1;34m\u001b[0m\n\u001b[0;32m      3\u001b[0m \u001b[0merraten\u001b[0m\u001b[1;33m=\u001b[0m\u001b[1;32mFalse\u001b[0m\u001b[1;33m\u001b[0m\u001b[1;33m\u001b[0m\u001b[0m\n\u001b[0;32m      4\u001b[0m \u001b[1;32mwhile\u001b[0m\u001b[1;33m(\u001b[0m\u001b[0merraten\u001b[0m\u001b[1;33m==\u001b[0m\u001b[1;32mFalse\u001b[0m\u001b[1;33m)\u001b[0m\u001b[1;33m:\u001b[0m\u001b[1;33m\u001b[0m\u001b[1;33m\u001b[0m\u001b[0m\n\u001b[1;32m----> 5\u001b[1;33m     \u001b[0meingabe\u001b[0m\u001b[1;33m=\u001b[0m\u001b[0mint\u001b[0m\u001b[1;33m(\u001b[0m\u001b[0minput\u001b[0m\u001b[1;33m(\u001b[0m\u001b[1;34m\"Welche Zahl tippen Sie?\"\u001b[0m\u001b[1;33m)\u001b[0m\u001b[1;33m)\u001b[0m\u001b[1;33m\u001b[0m\u001b[1;33m\u001b[0m\u001b[0m\n\u001b[0m\u001b[0;32m      6\u001b[0m     \u001b[1;32mif\u001b[0m\u001b[1;33m(\u001b[0m\u001b[0meingabe\u001b[0m\u001b[1;33m<\u001b[0m\u001b[0mzufall\u001b[0m\u001b[1;33m)\u001b[0m\u001b[1;33m:\u001b[0m\u001b[1;33m\u001b[0m\u001b[1;33m\u001b[0m\u001b[0m\n\u001b[0;32m      7\u001b[0m         \u001b[0mprint\u001b[0m\u001b[1;33m(\u001b[0m\u001b[1;34m\"Das war zuwenig\"\u001b[0m\u001b[1;33m)\u001b[0m\u001b[1;33m\u001b[0m\u001b[1;33m\u001b[0m\u001b[0m\n",
      "\u001b[1;31mValueError\u001b[0m: invalid literal for int() with base 10: 'j'"
     ]
    }
   ],
   "source": [
    "import random\n",
    "zufall=random.randint(1,1024)\n",
    "erraten=False\n",
    "while(erraten==False):\n",
    "    eingabe=int(input(\"Welche Zahl tippen Sie?\"))\n",
    "    if(eingabe<zufall):\n",
    "        print(\"Das war zuwenig\")\n",
    "    elif(eingabe>zufall):\n",
    "        print(\"Das war zuviel\")\n",
    "    else:\n",
    "        print(\"Das war die gesuchte Zahl! \\nSpiel beendet\")\n",
    "        erraten=True"
   ]
  },
  {
   "cell_type": "code",
   "execution_count": null,
   "metadata": {},
   "outputs": [],
   "source": []
  }
 ],
 "metadata": {
  "kernelspec": {
   "display_name": "Python 3",
   "language": "python",
   "name": "python3"
  },
  "language_info": {
   "codemirror_mode": {
    "name": "ipython",
    "version": 3
   },
   "file_extension": ".py",
   "mimetype": "text/x-python",
   "name": "python",
   "nbconvert_exporter": "python",
   "pygments_lexer": "ipython3",
   "version": "3.8.3"
  }
 },
 "nbformat": 4,
 "nbformat_minor": 4
}

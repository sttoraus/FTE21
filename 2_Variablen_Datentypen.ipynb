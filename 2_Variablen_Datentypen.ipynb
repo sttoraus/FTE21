{
 "cells": [
  {
   "cell_type": "markdown",
   "metadata": {},
   "source": [
    "# Variablen\n",
    "Variablen werden benötigt, um Werte zu speichern, welche innerhalb des Programms benötigt werden.\n",
    "Wichtig:\n",
    "\n",
    "    Variablen sind \"case-sensitiv\"\n",
    "    \n",
    "    Typdeklaration ist dynamisch\n",
    "    \n",
    "    Variabelnnamen sollten immer eindeutig sein!\n",
    "    \n",
    "    Variablen sollten immer klein geschrieben werden\n",
    "    \n",
    "https://www.python-kurs.eu/python3_variablen.php\n",
    "Welche Variablennamen sind erlaub?\n",
    "Teste folgende Variablennamen auf ihre gültigkeit: 123a ; a123;  a ; -a ; UmlautÄ ; _üöä ; § ; ? ; $ ;\n"
   ]
  },
  {
   "cell_type": "code",
   "execution_count": null,
   "metadata": {},
   "outputs": [],
   "source": []
  },
  {
   "cell_type": "markdown",
   "metadata": {},
   "source": [
    "# Datentypen\n",
    "Werden bei der Deklaration einer Variablen automatisch bestimmt!\n",
    "Aber welche Datentypen stecken dahinter? Mit \"type()\" kann der Datentyp abgefragt werden \n",
    "## Ganzzahlen (Integer):\n",
    "Zahlen ohne Kommastelle (auch negative Zahlen) --> Integer (int):  \n",
    "Beispiele:"
   ]
  },
  {
   "cell_type": "code",
   "execution_count": null,
   "metadata": {},
   "outputs": [],
   "source": [
    "ne_riesige_negative_zahl= -9999999999999999999 # Deklaration einer neuen Variablen und zuweisen eines Wertes\n",
    "print(type(ne_riesige_negative_zahl))  # Abfrage und Ausgabe des Datentyps"
   ]
  },
  {
   "cell_type": "code",
   "execution_count": null,
   "metadata": {},
   "outputs": [],
   "source": [
    "ne_riesige_zahl= 99999999999999999999999999999 # Deklaration einer neuen Variablen und zuweisen eines Wertes\n",
    "print(type(ne_riesige_zahl)) # Abfrage und Ausgabe des Datentyps"
   ]
  },
  {
   "cell_type": "code",
   "execution_count": null,
   "metadata": {},
   "outputs": [],
   "source": []
  },
  {
   "cell_type": "markdown",
   "metadata": {},
   "source": [
    "## Gleitkommazahlen (Float):\n",
    "Zahlen mit Kommastelle (auch negative Zahlen). Komma muss mit einem Punkt eingegeben werden!  \n",
    "Beispiele:"
   ]
  },
  {
   "cell_type": "code",
   "execution_count": null,
   "metadata": {},
   "outputs": [],
   "source": [
    "Zahl= 1.1            # Deklaration einer neuen Variablen und zuweisen eines Wertes\n",
    "print(type(Zahl))    # Abfrage und Ausgabe des Datentyps"
   ]
  },
  {
   "cell_type": "markdown",
   "metadata": {},
   "source": [
    "### 3. Zeichenketten (String):\n",
    "Kann ein einzelner Buchstabe sein, oder mehrere Zeichen.\n",
    "--> Anführungszeichen beachten!  \n",
    "Beispiele:"
   ]
  },
  {
   "cell_type": "code",
   "execution_count": null,
   "metadata": {},
   "outputs": [],
   "source": [
    "Text= \"Hallo\"            # Deklaration einer neuen Variablen und zuweisen eines Wertes\n",
    "print(type(Text))        # Abfrage und Ausgabe des Datentyps"
   ]
  },
  {
   "cell_type": "markdown",
   "metadata": {},
   "source": [
    "### 4. Boolesche Variable(Bool):\n",
    "True oder False für 1 bzw. 0 in der boolschen Algebra.  \n",
    "Beispiele:"
   ]
  },
  {
   "cell_type": "code",
   "execution_count": null,
   "metadata": {},
   "outputs": [],
   "source": [
    "Wahr = True        # Deklaration einer neuen Variablen und zuweisen des logischen \"True\"\n",
    "print(type(Wahr))  # Abfrage und Ausgabe des Datentyps"
   ]
  },
  {
   "cell_type": "code",
   "execution_count": null,
   "metadata": {},
   "outputs": [],
   "source": [
    "Wahr = False        # Deklaration einer neuen Variablen und zuweisen des logischen \"False\"\n",
    "print(type(Wahr))   # Abfrage und Ausgabe des Datentyps"
   ]
  }
 ],
 "metadata": {
  "kernelspec": {
   "display_name": "Python 3",
   "language": "python",
   "name": "python3"
  },
  "language_info": {
   "codemirror_mode": {
    "name": "ipython",
    "version": 3
   },
   "file_extension": ".py",
   "mimetype": "text/x-python",
   "name": "python",
   "nbconvert_exporter": "python",
   "pygments_lexer": "ipython3",
   "version": "3.8.3"
  }
 },
 "nbformat": 4,
 "nbformat_minor": 4
}

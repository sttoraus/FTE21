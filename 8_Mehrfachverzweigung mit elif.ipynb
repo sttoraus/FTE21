{
 "cells": [
  {
   "cell_type": "markdown",
   "metadata": {},
   "source": [
    "# Mehrfachauswahl mit elif\n",
    "Manchmal gibt es nicht nur wahr und falsch, sondern drei oder mehrere Möglichkeiten. Wie z.B. beim Autofahren:  \n",
    "![Bild](https://raw.githubusercontent.com/sttoraus/Teaching-/master/elif.JPG)\n",
    "Solche Mehrfachverzweigungen können in Python mit dem Schlüsselwort \"elif\" (kurz für else if), realisiert werden."
   ]
  },
  {
   "cell_type": "code",
   "execution_count": null,
   "metadata": {},
   "outputs": [],
   "source": [
    "ampel=\"orange\"\n",
    "if(ampel==\"grün\"):\n",
    "    print(\"Weiterfahren\")\n",
    "elif(ampel==\"rot\"):\n",
    "    print(\"Bremsen\")\n",
    "elif(ampel==\"orange\"):\n",
    "    print(\"Gas geben!!!\")"
   ]
  },
  {
   "cell_type": "markdown",
   "metadata": {},
   "source": [
    "Auch hier gibt es die Möglichkeit einen else-Zweig hinzuzufügen, welcher ausgeführt wird, wenn keine der Bedingungen zutrifft."
   ]
  },
  {
   "cell_type": "code",
   "execution_count": null,
   "metadata": {},
   "outputs": [],
   "source": [
    "ampel=\"orange\"\n",
    "if(ampel==\"grün\"):\n",
    "    print(\"Weiterfahren\")\n",
    "elif(ampel==\"rot\"):\n",
    "    print(\"Bremsen\")\n",
    "elif(ampel==\"orange\"):\n",
    "    print(\"Gas geben!!!\")\n",
    "else:\n",
    "    print(\"Ampel ist aus. Verkehrsschilder beachten\")"
   ]
  },
  {
   "cell_type": "markdown",
   "metadata": {},
   "source": [
    "Aufgabe 1: Lottogewinn:\n",
    "Schreibe ein Algorithmus, welcher in Abhängikeit der Anzahl der richtigen Lottozahlen den entsprechenden Gewinn ausgibt.\n",
    "Es gilt:  \n",
    "Sechs richtige --> 1 Millionen  €  \n",
    "Fünf richtige --> 2000€  \n",
    "Vier richtige --> 50€  \n",
    "Drei richtige --> 5€  \n",
    "Sonst: Sie haben leider nichts gewonnen :-(  \n",
    "Die Anzahl der Richtigen soll nach einer entsprechenden Abfrage über die Tastatur eingegeben werden"
   ]
  },
  {
   "cell_type": "code",
   "execution_count": null,
   "metadata": {},
   "outputs": [],
   "source": []
  },
  {
   "cell_type": "markdown",
   "metadata": {},
   "source": [
    "Aufgabe 2: Erweiteren Sie Aufgabe 1. Es soll in einer weiteren Abfrage geprüft werden, ob die Superzahl erraten wurde. Es gilt:  \n",
    "Sechs richtige + Superzahl --> 3 Millionen €  \n",
    "Sechs richtige --> 1 Millionen €\n",
    "Fünf richtige + Superzahl --> 50 000€  \n",
    "Fünf richtige --> 2 000€  \n",
    "Vier richtige + Superzahl --> 150€  \n",
    "Vier richtige --> 50 €\n",
    "Drei richtige + Superzahl --> 15€  \n",
    "Drei richtige --> 5 €  \n",
    "Sonst --> Sie haben leider nicht gewonnen"
   ]
  },
  {
   "cell_type": "code",
   "execution_count": null,
   "metadata": {},
   "outputs": [],
   "source": []
  },
  {
   "cell_type": "markdown",
   "metadata": {},
   "source": [
    "Aufgabe 3: Erweitern Sie das Ampel Beispiel. Legen Sie einen Abstand zur Ampel und eine Fahrzeuggeschwindigkeit fest. Wenn die Ampel Orange ist soll geprüft werden, ob noch rechtzeitig gebremst werden kann. Recherchieren Sie hierzu die Formel für den Anhalteweg. Gehen Sie von einer Reaktionszeit von einer Sekunde aus."
   ]
  },
  {
   "cell_type": "code",
   "execution_count": null,
   "metadata": {},
   "outputs": [],
   "source": []
  }
 ],
 "metadata": {
  "kernelspec": {
   "display_name": "Python 3",
   "language": "python",
   "name": "python3"
  },
  "language_info": {
   "codemirror_mode": {
    "name": "ipython",
    "version": 3
   },
   "file_extension": ".py",
   "mimetype": "text/x-python",
   "name": "python",
   "nbconvert_exporter": "python",
   "pygments_lexer": "ipython3",
   "version": "3.8.3"
  }
 },
 "nbformat": 4,
 "nbformat_minor": 4
}

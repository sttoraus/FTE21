{
 "cells": [
  {
   "cell_type": "markdown",
   "metadata": {},
   "source": [
    "# Zweidimensionale-Listen anhand von schwarz-weiß-Bildern\n",
    "Jedes Bild besteht aus vielen einzelnen Pixeln. Jedes Pixel hat einen Farbwert und je mehr Pixel ein Bild hat, desto besser ist die Auflösung. Betrachten wir nun folgendes Schwarßweißbild, welches 256 Pixel breit und 256 Pixel hoch ist. Somit ergeben sich daraus insgesamt 65536 Pixel im Bild \n",
    "![Bild](https://raw.githubusercontent.com/sttoraus/Teaching-/master/small.jpg)"
   ]
  },
  {
   "cell_type": "markdown",
   "metadata": {},
   "source": [
    "Das Bild besteht somit aus einer Matrix, welche 256 Zeilen und 256 Spalten besitzt.  \n",
    "Betrachten wir nun nur die  3 mal 3 Pixel im oberen linken Eck, könnte dies so aussehen:  \n",
    "![Bild2](https://raw.githubusercontent.com/sttoraus/Teaching-/master/klein.JPG)"
   ]
  },
  {
   "cell_type": "markdown",
   "metadata": {},
   "source": [
    "Jedes der 9 Pixel hat einen eigenen Farbwert. Bei einer Farbtiefe von 8 Bit bedeutet dies, dass jeder Zahl zwischen 0 und 255 ein Farbton zugeordnet ist. 255 steht für weiß und 0 für schwarz. Je kleiner die Zahl, desto dunkler die Farbe! Die Farbwerte der einzelnen Pixel werden in einer zweidimensinalen Liste gespeichert.  \n",
    "Mit diesem Wissen ist es nun möglich, unsere eigenen digitalen Bilder zu zeichnen.  \n",
    "Beispiel:"
   ]
  },
  {
   "cell_type": "code",
   "execution_count": 8,
   "metadata": {},
   "outputs": [
    {
     "data": {
      "image/png": "[encoded data removed]",
      "text/plain": [
       "<Figure size 432x288 with 1 Axes>"
      ]
     },
     "metadata": {
      "needs_background": "light"
     },
     "output_type": "display_data"
    }
   ],
   "source": [
    "import matplotlib.pyplot as plt  # wird für das Darstellen benötigt!\n",
    "bild=[[150,160,100],  # Oberste Zeile\n",
    "      [160,255,165],  # Mittlere Zeile\n",
    "      [170,175,0]]  # unterste Zeile\n",
    "# 2-dimensionale Liste mit 3 Zeilen und 3 Spalten!\n",
    "plt.imshow(bild,cmap=\"gray\",vmin = 0, vmax = 255)  # Darstellen der Liste als sw Bild\n",
    "plt.show()\n"
   ]
  },
  {
   "cell_type": "markdown",
   "metadata": {},
   "source": [
    "In einer Liste können einzelne Elemente geändert werden. Ist ist daher möglich, dass wir nun z.B. nur den Farbton des Pixels im oberen linken Eck ändern.\n",
    "Da es sich um eine zweidimensionale Liste handelt, muss zowohl die Zeilenzahl, als auch die Spaltenzahl in eckigen Klammern angegeben werden. **Beachte**: Immer bei 0 beginnend!  \n",
    "\n",
    "variable[Zeile][Spalte]\n"
   ]
  },
  {
   "cell_type": "code",
   "execution_count": 7,
   "metadata": {},
   "outputs": [
    {
     "name": "stdout",
     "output_type": "stream",
     "text": [
      "[[155, 160, 100], [160, 255, 165], [170, 175, 0]]\n"
     ]
    }
   ],
   "source": [
    "bild[0][0]=155\n",
    "print(bild)"
   ]
  },
  {
   "cell_type": "code",
   "execution_count": null,
   "metadata": {},
   "outputs": [],
   "source": [
    "bild[0][0]=255  # Pixel in der Zeile 0; Spalte 0 --> Pixel links oben\n",
    "plt.imshow(bild,cmap=\"gray\",vmin = 0, vmax = 255)  # Darstellen der Liste als Bild\n",
    "plt.show()"
   ]
  },
  {
   "cell_type": "markdown",
   "metadata": {},
   "source": [
    "## Aufgabe 1:\n",
    "Ändern Sie die Farbe des Pixels unten rechts und unten links zu schwarz!"
   ]
  },
  {
   "cell_type": "markdown",
   "metadata": {},
   "source": [
    "## Aufgabe 2:\n",
    "Erstellen Sie ein Schachbrettliste mit 5 Zeilen und 5 Spalten. Geben Sie dieses anschließend am Bildschirm aus."
   ]
  },
  {
   "cell_type": "code",
   "execution_count": null,
   "metadata": {},
   "outputs": [],
   "source": []
  },
  {
   "cell_type": "markdown",
   "metadata": {},
   "source": [
    "## Zusatzaufgabe; Nicht auf Schulplattform möglich!\n",
    "Gegen ist folgendes Bild. Die Werte der Farben sind hier nicht zwischen 0 und 255, sondern zwischen 0 und 1 als Gleitkommazahl.  Achtung: Bildgröße ist nicht 256*256.\n",
    "Aufgabe: Verringern Sie die Farbtiefe auf 1 Bit! Werte kleiner 0,5 --> 0; Werte größer 0,5 -->1"
   ]
  },
  {
   "cell_type": "code",
   "execution_count": null,
   "metadata": {},
   "outputs": [],
   "source": [
    "import skimage.io  # Bibliothek geht es aktuell nicht auf Schul py\n",
    "import matplotlib.pyplot as plt\n",
    "img=skimage.io.imread(\"https://raw.githubusercontent.com/sttoraus/Teaching-/master/small.jpg\",as_gray=True) #einlesen von Bild\n",
    "print(img)\n",
    "plt.imshow(img,cmap=\"gray\",vmin = 0, vmax = 1)  # Darstellen der Liste als Bild\n",
    "plt.show()"
   ]
  },
  {
   "cell_type": "markdown",
   "metadata": {},
   "source": [
    "## Zusatzaufgabe:\n",
    "Erstellen Sie ein 500 * 500 Pixel großes, schwarzes Bild."
   ]
  },
  {
   "cell_type": "markdown",
   "metadata": {},
   "source": [
    "# 2D- Listen allgemein.\n",
    "2D-Listen werden oft benötigt, um Daten zu speichern.\n",
    "Beispiel:"
   ]
  },
  {
   "cell_type": "code",
   "execution_count": null,
   "metadata": {},
   "outputs": [],
   "source": [
    "telefonbuch=[[\"Hans\",\"Wurst\",\"07333 4542\"],\n",
    "             [\"Elke\",\"Schinken\",\"07333 3245\"]]\n",
    "print(\"Erster Vorname:\",telefonbuch[0][0])\n",
    "print(\"Erste Telefonnummer:\",telefonbuch[0][2])"
   ]
  },
  {
   "cell_type": "markdown",
   "metadata": {},
   "source": [
    "## 2D- Listen und die len() Funktion\n",
    "Für eine dynamische Anpassung macht es Sinn, dass die Anzahl der Spalten und Zeilen bei Schleifen nicht statisch festgelegt wird. Aber Achtung: **len() liefert die Anzahl der Zeilen!**"
   ]
  },
  {
   "cell_type": "code",
   "execution_count": null,
   "metadata": {},
   "outputs": [],
   "source": [
    "print(\"Das Telefonbuch hat momentan\",len(telefonbuch),\"Zeilen\")"
   ]
  },
  {
   "cell_type": "markdown",
   "metadata": {},
   "source": [
    "Die Anzahl der Spalten kann folgendermaßen erfolgen:"
   ]
  },
  {
   "cell_type": "code",
   "execution_count": null,
   "metadata": {},
   "outputs": [],
   "source": [
    "print(\"Das Telefonbuch\",len(telefonbuch[0]),\"Spalteneinträge\")"
   ]
  },
  {
   "cell_type": "code",
   "execution_count": null,
   "metadata": {},
   "outputs": [],
   "source": [
    "print(\"Nullte zeile des Telefonbuchs: \",end=\" \")\n",
    "for i in range(len(telefonbuch[0])):\n",
    "    print(telefonbuch[0][i],end=\" \")"
   ]
  },
  {
   "cell_type": "markdown",
   "metadata": {},
   "source": [
    "## Aufgaben\n",
    "- 1. Erweitere das Telefonbuch um folgenden Eintrag: Han Solo 07333 42342\n",
    "- 2. Gebe den vollständigen Eintrag von Elke mit einer for-Schleife aus\n",
    "- 3. Gebe das vollständige Telefonbuch aus. Ausgabe soll folgendermaßen aussehen:  \n",
    "Zeile 0: Hans Wurst 07333 4542  \n",
    "Zeile 1: Elke Schinken 07333 3245  \n",
    "Zeile 2: Han Solo 42342"
   ]
  },
  {
   "cell_type": "code",
   "execution_count": null,
   "metadata": {},
   "outputs": [],
   "source": [
    "telefonbuch=[[\"Hans\",\"Wurst\",\"07333 4542\"],[\"Elke\",\"Schinken\",\"07333 3245\"]]"
   ]
  },
  {
   "cell_type": "markdown",
   "metadata": {},
   "source": [
    "## Zusatz\n",
    "Gegeben ist folgende Matrix. Schreibe ein Code, der die Anzahl der 1en zählt und anschließen ausgibt."
   ]
  },
  {
   "cell_type": "code",
   "execution_count": 10,
   "metadata": {},
   "outputs": [],
   "source": [
    "feld=[[0,1,0,0],\n",
    "      [0,1,0,0],\n",
    "      [0,0,0,0]]"
   ]
  },
  {
   "cell_type": "code",
   "execution_count": 12,
   "metadata": {},
   "outputs": [
    {
     "name": "stdout",
     "output_type": "stream",
     "text": [
      "4\n"
     ]
    }
   ],
   "source": [
    "print(len(feld[0]))"
   ]
  },
  {
   "cell_type": "code",
   "execution_count": null,
   "metadata": {},
   "outputs": [],
   "source": []
  },
  {
   "cell_type": "code",
   "execution_count": null,
   "metadata": {},
   "outputs": [],
   "source": []
  },
  {
   "cell_type": "code",
   "execution_count": null,
   "metadata": {},
   "outputs": [],
   "source": []
  }
 ],
 "metadata": {
  "kernelspec": {
   "display_name": "Python 3",
   "language": "python",
   "name": "python3"
  },
  "language_info": {
   "codemirror_mode": {
    "name": "ipython",
    "version": 3
   },
   "file_extension": ".py",
   "mimetype": "text/x-python",
   "name": "python",
   "nbconvert_exporter": "python",
   "pygments_lexer": "ipython3",
   "version": "3.8.3"
  }
 },
 "nbformat": 4,
 "nbformat_minor": 4
}

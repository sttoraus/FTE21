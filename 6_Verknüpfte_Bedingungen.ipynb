{
 "cells": [
  {
   "cell_type": "markdown",
   "metadata": {},
   "source": [
    "# Verknüpfte Bedingungen\n",
    "Oft ist es nötig, dass mehrere Bedingungen geprüft werden müssen. Die könnte man mit mehreren if-Abfragen realisieren.  \n",
    "Beispiel:"
   ]
  },
  {
   "cell_type": "code",
   "execution_count": 2,
   "metadata": {},
   "outputs": [
    {
     "name": "stdin",
     "output_type": "stream",
     "text": [
      "Bitte Zahl zwischen 1 und 6 eingeben 1\n"
     ]
    }
   ],
   "source": [
    "zahl=int(input(\"Bitte Zahl zwischen 1 und 6 eingeben\"))\n",
    "if(zahl<1):\n",
    "    print(\"Die eingegebene Zahl ist nicht zwischen 1 und 6\")\n",
    "if(zahl>6):\n",
    "    print(\"Die eingegebene Zahl ist nicht zwischen 1 und 6\")"
   ]
  },
  {
   "cell_type": "markdown",
   "metadata": {},
   "source": [
    "Mit einem logischen \"Oder\" lässt sich dies mit nur einer Abfrage realisieren:"
   ]
  },
  {
   "cell_type": "code",
   "execution_count": 5,
   "metadata": {},
   "outputs": [
    {
     "name": "stdin",
     "output_type": "stream",
     "text": [
      "Bitte Zahl zwischen 1 und 6 eingeben 3\n"
     ]
    }
   ],
   "source": [
    "zahl=int(input(\"Bitte Zahl zwischen 1 und 6 eingeben\"))\n",
    "if(zahl<1 or zahl>6):\n",
    "    print(\"Die eingegebene Zahl ist nicht zwischen 1 und 6\")\n",
    "else:\n",
    "    print(\"Die eingegebene Zahl ist zwischen 1 und 6\")"
   ]
  },
  {
   "cell_type": "markdown",
   "metadata": {},
   "source": [
    "Die Anweisungen innerhalb der IF-Abfrage werden nun ausgeführt, sobald eine beiden Bedingungen erfüllt ist.  \n",
    "Sollen die Anweisungen der IF-Abfrage nur dann ausgeführt werden, wenn alle Bedingungen erfüllt sind, müssen die Bedingungen mit einem logischen \"UND\" verknüpft werden:"
   ]
  },
  {
   "cell_type": "code",
   "execution_count": 9,
   "metadata": {},
   "outputs": [
    {
     "name": "stdout",
     "output_type": "stream",
     "text": [
      "Es ist mindestens ein Schalter betätigt\n",
      "Beide Schalter sind betätigt\n"
     ]
    }
   ],
   "source": [
    "schalter1=True\n",
    "schalter2=True\n",
    "if(schalter1==True or schalter2==True):\n",
    "    print(\"Es ist mindestens ein Schalter betätigt\")\n",
    "else:\n",
    "    print(\"Kein Schalter ist betätigt\")\n",
    "if(schalter1==True and schalter2==True):\n",
    "    print(\"Beide Schalter sind betätigt\")\n"
   ]
  },
  {
   "cell_type": "markdown",
   "metadata": {},
   "source": [
    "## Aufgaben"
   ]
  },
  {
   "cell_type": "code",
   "execution_count": 10,
   "metadata": {},
   "outputs": [],
   "source": [
    "# Aufgabe 1:\n",
    "# Wenn das Wetter \"gut\" ist, oder das TV-Progamm \"schlecht\" ist, soll \"Zeit für Fussball\" ausgegeben werden\n",
    "wetter=\"schlecht\"\n",
    "tv=\"schlecht\""
   ]
  },
  {
   "cell_type": "code",
   "execution_count": null,
   "metadata": {},
   "outputs": [],
   "source": []
  },
  {
   "cell_type": "markdown",
   "metadata": {},
   "source": [
    "Schreiben Sie eine neue Abfrage: Wenn das Wetter und das TV-Programm \"schlecht\" ist, soll \"Zeit zum Python lernen\" ausgegeben werden."
   ]
  },
  {
   "cell_type": "code",
   "execution_count": null,
   "metadata": {},
   "outputs": [],
   "source": []
  },
  {
   "cell_type": "markdown",
   "metadata": {},
   "source": [
    "Verknüpfen Sie die beiden vorherigen Aufgaben in einem Programm mit nur einer Ausgabe."
   ]
  },
  {
   "cell_type": "code",
   "execution_count": null,
   "metadata": {},
   "outputs": [],
   "source": []
  },
  {
   "cell_type": "markdown",
   "metadata": {},
   "source": [
    "Fragen Sie nach einer Zahl zwischen 1 und 6. Geben Sie eine Meldung aus, wenn \n",
    "die Zahl zu klein oder zu groß ist („Die eingegebene Zahl ist zu klein!“ bzw. „Die \n",
    "eingegebene Zahl ist zu groß!“). Andernfalls geben Sie die eingegebene Zahl aus. "
   ]
  },
  {
   "cell_type": "code",
   "execution_count": null,
   "metadata": {},
   "outputs": [],
   "source": []
  },
  {
   "cell_type": "markdown",
   "metadata": {},
   "source": [
    "Schreiben Sie einen Algorithmus zu folgendem Programmablaufplan.  \n",
    "![Bild](https://raw.githubusercontent.com/sttoraus/Teaching-/master/pap.JPG)"
   ]
  },
  {
   "cell_type": "code",
   "execution_count": null,
   "metadata": {},
   "outputs": [],
   "source": []
  }
 ],
 "metadata": {
  "kernelspec": {
   "display_name": "Python 3",
   "language": "python",
   "name": "python3"
  },
  "language_info": {
   "codemirror_mode": {
    "name": "ipython",
    "version": 3
   },
   "file_extension": ".py",
   "mimetype": "text/x-python",
   "name": "python",
   "nbconvert_exporter": "python",
   "pygments_lexer": "ipython3",
   "version": "3.8.3"
  }
 },
 "nbformat": 4,
 "nbformat_minor": 4
}

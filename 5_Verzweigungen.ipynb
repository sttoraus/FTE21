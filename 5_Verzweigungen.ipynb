{
 "cells": [
  {
   "cell_type": "markdown",
   "metadata": {},
   "source": [
    "# Verzweigungen\n",
    "Verzweigungen werden durch eine Abfrage realisiert, deren Ergebnis wahr oder falsch sein kann. Bei der Abfrage werden Vergleichsoperatoren verwendet.  \n",
    "Syntax:\n"
   ]
  },
  {
   "cell_type": "code",
   "execution_count": null,
   "metadata": {},
   "outputs": [],
   "source": [
    "var=int(input(\"Bitte Zahl eingeben\"))\n",
    "if(var==6):  # Prüft, ob die Bedingung \"var == 6 \" erfüllt ist\n",
    "    print(\"Sie haben die Zahl 6 eingegeben\")   # Wird ausgeführt, wenn die Bedingung erfüllt ist. Einrückung beachten!!"
   ]
  },
  {
   "cell_type": "markdown",
   "metadata": {},
   "source": [
    "Im Gegensatz zu vielen anderen Programmiersprachen, wir der Code, welcher ausgeführt werden soll, wenn die Bedingung erfüllt ist, nicht in Klammer geschrieben, sondern wird nach rechts eingerückt. Sollen mehrere Anweisungen ausgeführt werden, wenn eine Bedingung erfüllt ist, müssen diese eingerückt werden.  \n",
    "Beispiel:"
   ]
  },
  {
   "cell_type": "code",
   "execution_count": 2,
   "metadata": {},
   "outputs": [
    {
     "name": "stdin",
     "output_type": "stream",
     "text": [
      "Bitte Zahl eingeben 6\n"
     ]
    },
    {
     "name": "stdout",
     "output_type": "stream",
     "text": [
      "Sie haben die Zahl 6 eingegeben\n",
      "Heute ist Ihr Glückstag\n",
      "Vielen Dank für Ihren Besuch\n"
     ]
    }
   ],
   "source": [
    "var=int(input(\"Bitte Zahl eingeben\"))\n",
    "if(var==6):  # Prüft, ob die Bedingung \"var == 6 \" erfüllt ist\n",
    "    print(\"Sie haben die Zahl 6 eingegeben\")   # Wird ausgeführt, wenn die Bedingung erfüllt ist. Einrückung beachten!!\n",
    "    print(\"Heute ist Ihr Glückstag\")    # Wird ebenfalls ausgeführt, wenn die Bedingung erfüllt ist. Einrückung beachten!!\n",
    "print(\"Vielen Dank für Ihren Besuch\")   # Wird immer ausgeführt"
   ]
  },
  {
   "cell_type": "markdown",
   "metadata": {},
   "source": [
    "## Vergleichsoperatoren\n",
    "folgende Operatoren stehen für die Prüfung der Bedingung zur Verfügung  \n",
    "![Bild](https://lp.uni-goettingen.de/get/math/605d2fad0fad2c50dbbb4eb729e84a5f.png)"
   ]
  },
  {
   "cell_type": "markdown",
   "metadata": {},
   "source": [
    "## Der else Zweig\n",
    "Verzweigungen sind oft \"zweiseitig\". Kleines Beispiel: Sie fahren mit dem Auto auf einen Zebrastreifen zu. Sie Prüfen, ob ein Fußgänger die Straße überqueren möchte. Ist die Bedingung erfüllt, halten Sie an. Ist die Bedingung nicht erfüllt, fahren Sie weiter. Bei der Programmierung können Sie mit dem \"else\" angeben, was ausgeführt werden soll, wenn die Bedingung nicht erfüllt ist.  \n",
    "Beispiel:"
   ]
  },
  {
   "cell_type": "code",
   "execution_count": 5,
   "metadata": {},
   "outputs": [
    {
     "name": "stdout",
     "output_type": "stream",
     "text": [
      "Ich halte an\n"
     ]
    }
   ],
   "source": [
    "fussgaenger=True\n",
    "if(fussgaenger==True):\n",
    "    print(\"Ich halte an\")\n",
    "else:\n",
    "    print(\"Ich kann weiter fahren\")"
   ]
  },
  {
   "cell_type": "markdown",
   "metadata": {},
   "source": [
    "## Aufgaben"
   ]
  },
  {
   "cell_type": "markdown",
   "metadata": {},
   "source": [
    "1. Ein Programmcode soll mit dem Passwort \"admin\" geschützt werden. Der Benutzer soll aufgefordert werden, das Passwort einzugeben. Stimmt die Eingabe mit dem definierten Sollwert überein, soll eine entsprechende Ausgabe erscheinen.\n",
    "2. Wenn ein falsches Passwort eingegeben wird soll folgende Ausgabe erscheinen: Falsche Eingabe. (Neue Zeile) Bitte wenden Sie sich an Ihren Administrator\""
   ]
  },
  {
   "cell_type": "code",
   "execution_count": null,
   "metadata": {},
   "outputs": [],
   "source": []
  },
  {
   "cell_type": "markdown",
   "metadata": {},
   "source": [
    "3. Fragen Sie nach zwei Zahlen. Geben Sie eine Meldung aus, ob die erste Zahl kleiner, größer oder gleich groß wie die zweite Zahl ist. "
   ]
  },
  {
   "cell_type": "code",
   "execution_count": null,
   "metadata": {},
   "outputs": [],
   "source": []
  },
  {
   "cell_type": "markdown",
   "metadata": {},
   "source": [
    "4. Fragen Sie nach dem Geburtsjahr und ob in diesem Jahr schon Geburtstag gefeiert wurde (Eingabe j oder J für ja bzw. n oder N für nein). Geben Sie anschließend das Alter aus. "
   ]
  },
  {
   "cell_type": "code",
   "execution_count": null,
   "metadata": {},
   "outputs": [],
   "source": []
  },
  {
   "cell_type": "markdown",
   "metadata": {},
   "source": [
    "5. Fragen Sie nach einem Preis und ob Mehrwertsteuer bezahlt werden muss (Eingabe j für ja bzw. n für nein). Geben Sie anschließend den korrekten Rechnungsbetrag miz zwei Nachkommastellen aus."
   ]
  },
  {
   "cell_type": "code",
   "execution_count": null,
   "metadata": {},
   "outputs": [],
   "source": []
  },
  {
   "cell_type": "markdown",
   "metadata": {},
   "source": [
    "6. Fragen Sie nach einer Zahl zwischen 1 und 6. Geben Sie eine Meldung aus, wenn die Zahl zu klein oder zu groß ist. Andernfalls geben Sie die eingegebene Zahl aus. "
   ]
  },
  {
   "cell_type": "code",
   "execution_count": null,
   "metadata": {},
   "outputs": [],
   "source": []
  }
 ],
 "metadata": {
  "kernelspec": {
   "display_name": "Python 3",
   "language": "python",
   "name": "python3"
  },
  "language_info": {
   "codemirror_mode": {
    "name": "ipython",
    "version": 3
   },
   "file_extension": ".py",
   "mimetype": "text/x-python",
   "name": "python",
   "nbconvert_exporter": "python",
   "pygments_lexer": "ipython3",
   "version": "3.8.3"
  }
 },
 "nbformat": 4,
 "nbformat_minor": 4
}

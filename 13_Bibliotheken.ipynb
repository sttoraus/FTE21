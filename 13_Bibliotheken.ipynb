{
 "cells": [
  {
   "cell_type": "markdown",
   "metadata": {},
   "source": [
    "# Bibliotheken"
   ]
  },
  {
   "cell_type": "markdown",
   "metadata": {},
   "source": [
    "Python verfügt über eine Standardbibliothek, welche eine umfangreiche Anzahl von Modulen bietet. Diese Module bieten viele Lösungen, die man sich ansonsten mühsam durch eigene Programme erarbeiten müsste."
   ]
  },
  {
   "cell_type": "markdown",
   "metadata": {},
   "source": [
    "Findet sich in der Standartbibliothek kein passendes Modul, gibt es zwei Möglichkeiten.\n",
    "1. Eine eigene Funktion schreiben\n",
    "2. Recherchieren, ob es ein \"externes\" Modul gibt, welche die Aufgabe lösen kann"
   ]
  },
  {
   "cell_type": "markdown",
   "metadata": {},
   "source": [
    "Es gibt mehrere Möglichkeiten, wie man eine Bibliothek einbinden kann.   \n",
    "Hinweis: Dies funktioniert nur für Module, welche bereits in Anaconda installiert sind.\n",
    "Wird das Modul nicht gefunden, muss dieses erst installiert werden."
   ]
  },
  {
   "cell_type": "code",
   "execution_count": null,
   "metadata": {},
   "outputs": [],
   "source": [
    "import math   # Einbinden des Moduls \"math\" \n",
    "print(\"Ausgabe1\",math.pi) # Ausgabe der Konstante Pi des Moduls math\n",
    "\n",
    "import math as m # Einbinden mit einem anderen Namen\n",
    "# bei der Nutzung muss nun nur das Kürzel angegeben werden\n",
    "print(\"Asuagbe2:\",m.pi)\n"
   ]
  },
  {
   "cell_type": "markdown",
   "metadata": {},
   "source": [
    "Im obigen Code wurde das Modul math importiert. Hierbei handelt es sich um ein Objekt, welches Methoden und Konstanten besitzt. \n",
    "- Um eine Konstante des Objekts math aufzurufen, muss zuerst das Objekt und nach einem Punkt die Konstante genannt werden.\n",
    "- Um eine Methode des Objekts math aufzurufen, muss zuerst das Objekt und nach einem Punkt die Methode genannt werden. Danach folgen Klammern, welche gegebenfalls Werte beinhalten."
   ]
  },
  {
   "cell_type": "code",
   "execution_count": null,
   "metadata": {},
   "outputs": [],
   "source": [
    "print(math.degrees(6.28))\n",
    "print(help(math.degrees))"
   ]
  },
  {
   "cell_type": "markdown",
   "metadata": {},
   "source": [
    "Durch den Modul-Import stehen uns neue Funktionen und Konstanten zur Verfügung.\n",
    "Mit der help() Funktion können diese eingesehen werden."
   ]
  },
  {
   "cell_type": "code",
   "execution_count": null,
   "metadata": {},
   "outputs": [],
   "source": [
    "help(math)"
   ]
  },
  {
   "cell_type": "markdown",
   "metadata": {},
   "source": [
    "Die Import-Anweisung erfolgt vor dem eigentlichen Quellcode."
   ]
  },
  {
   "cell_type": "markdown",
   "metadata": {},
   "source": [
    "Aufgaben:"
   ]
  },
  {
   "cell_type": "code",
   "execution_count": null,
   "metadata": {},
   "outputs": [],
   "source": [
    "# 1) Importiere die Bibliothek \"random\""
   ]
  },
  {
   "cell_type": "code",
   "execution_count": null,
   "metadata": {},
   "outputs": [],
   "source": [
    "# 2) Zeige dir an, welche Funktionen das Module/ die Bibliothek beinhaltet"
   ]
  },
  {
   "cell_type": "code",
   "execution_count": null,
   "metadata": {},
   "outputs": [],
   "source": [
    "# 3) Erzeuge eine Zufallszahl zwischen 1 und 6"
   ]
  },
  {
   "cell_type": "code",
   "execution_count": null,
   "metadata": {},
   "outputs": [],
   "source": [
    "# 4) Prüfe, ob du eine Funktion innerhalb des Modul findest, welche Integer Zufallszahlen ausgibt"
   ]
  },
  {
   "cell_type": "code",
   "execution_count": null,
   "metadata": {},
   "outputs": [],
   "source": []
  },
  {
   "cell_type": "markdown",
   "metadata": {},
   "source": [
    "**Aufgabe 5**: Herr Rauschmaier überlässt die Benotung seiner Schüler dem Zufall.  \n",
    "Erstellen Sie einen Zufallsgenerator, welcher Noten zwischen 1 und 6 mit einer Nachkommastelle ausgibt."
   ]
  },
  {
   "cell_type": "code",
   "execution_count": null,
   "metadata": {},
   "outputs": [],
   "source": []
  },
  {
   "cell_type": "markdown",
   "metadata": {},
   "source": [
    "Mit der Methode time() der Bibliothek time kann ausgegeben werden, wieviele Sekunden seit dem 1.1.1970 vergangen sind."
   ]
  },
  {
   "cell_type": "code",
   "execution_count": null,
   "metadata": {},
   "outputs": [],
   "source": [
    "import time\n",
    "ms=time.time()\n",
    "print(\"Seit dem 1.1.1970 sind genau\",ms, \"Millisekunden vergangen\")"
   ]
  },
  {
   "cell_type": "markdown",
   "metadata": {},
   "source": [
    "**Aufgabe 6:** Verwenden Sie die Methode time() um festzustellen, wielange der Benutzer benötigt, um eine beliebige Taste zu drücken (Reaktionszeit messen)"
   ]
  },
  {
   "cell_type": "code",
   "execution_count": null,
   "metadata": {},
   "outputs": [],
   "source": [
    "\n",
    "print(\"Drücken Sie jetzt eine beliebige Taste!\")\n",
    "y=input()\n",
    "print(\"Vielen Dank\")"
   ]
  },
  {
   "cell_type": "markdown",
   "metadata": {},
   "source": [
    "## Zusatzaufgabe\n",
    "Damit die Bestimmung der Reaktionszeit nicht so berechenbar ist, soll der Reaktionstest erst nach einer zufälligen Zeit (zwischen 2 und 20 Sekunden) beginnen. Verwenden Sie ggf. die Methode sleep() der time Bibliothek"
   ]
  },
  {
   "cell_type": "code",
   "execution_count": null,
   "metadata": {},
   "outputs": [],
   "source": []
  },
  {
   "cell_type": "code",
   "execution_count": null,
   "metadata": {},
   "outputs": [],
   "source": []
  },
  {
   "cell_type": "code",
   "execution_count": null,
   "metadata": {},
   "outputs": [],
   "source": []
  }
 ],
 "metadata": {
  "kernelspec": {
   "display_name": "Python 3",
   "language": "python",
   "name": "python3"
  },
  "language_info": {
   "codemirror_mode": {
    "name": "ipython",
    "version": 3
   },
   "file_extension": ".py",
   "mimetype": "text/x-python",
   "name": "python",
   "nbconvert_exporter": "python",
   "pygments_lexer": "ipython3",
   "version": "3.8.3"
  }
 },
 "nbformat": 4,
 "nbformat_minor": 4
}

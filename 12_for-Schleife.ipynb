{
 "cells": [
  {
   "cell_type": "markdown",
   "metadata": {},
   "source": [
    "# for-Schleife\n",
    "\"Neben der while-Schleife gibt es noch eine weitere Schleife in Python. Je nach Anwendung spart die geschickte Wahl der Schleife Programmierarbeit. Und um das geht es ja beim Programmieren – eine zeitsparende Lösung mit dem geringstmöglichen Aufwand.\" \n",
    "Die for-Schleife wird dann verwendet, wenn die Anzahl der Wiederholungen (auch Iteration gennant) bekannt ist."
   ]
  },
  {
   "cell_type": "markdown",
   "metadata": {},
   "source": [
    "## Syntax:"
   ]
  },
  {
   "cell_type": "markdown",
   "metadata": {},
   "source": [
    "![for-Schleife](https://raw.githubusercontent.com/sttoraus/Teaching-/master/for.JPG)  \n",
    "Bei der for-Schleife gibt es eine Schleifenvariable, welche nur innerhalb der Schleife gültig ist. Der Startwert der Schleifenvariable wird mit dem Startwert definiert. Nach jedem Durchlauf der Schleife ändert sich der Wert der Schleifenvariable, um das Inkrement. Dieser Vorgang wiederholt sich solange, bis der Endwert erreicht ist.  \n",
    "Beispiel:"
   ]
  },
  {
   "cell_type": "code",
   "execution_count": 1,
   "metadata": {},
   "outputs": [
    {
     "name": "stdout",
     "output_type": "stream",
     "text": [
      "0\n",
      "1\n",
      "2\n",
      "3\n",
      "4\n",
      "5\n",
      "6\n",
      "7\n",
      "8\n"
     ]
    }
   ],
   "source": [
    "for i in range(9):\n",
    "    print(i)"
   ]
  },
  {
   "cell_type": "markdown",
   "metadata": {},
   "source": [
    "- Schleifenvariable: i\n",
    "- Startwert: 0\n",
    "- Endwert: 4\n",
    "- Inkrement: 1\n",
    "\n",
    "Im Beispiel ist der Startwert der Schleifenvariable 0, dieser wird solange um 1 (Inkrement) erhöht, bis die Schleifenvariable den Endwert 4 hat. Der Endwert ist exkludiert, weshalb die 3 die letzte Zahl ist, welche ausgegeben wird."
   ]
  },
  {
   "cell_type": "markdown",
   "metadata": {},
   "source": [
    "Für eine verkürzte Schreibweise ist es auch möglich, lediglich den Endwert anzugeben. Der Startwert ist in diesem Fall 0 und das Inkrement 1 (Startwert wird nach jedem Durchlauf um 1 erhöht bis der Endwert erreicht ist). Folgender Code liefert daher dieselbe Ausgabe wie das vorherige Beispiel:"
   ]
  },
  {
   "cell_type": "code",
   "execution_count": null,
   "metadata": {},
   "outputs": [],
   "source": [
    "for i in range(4):\n",
    "    print(i)"
   ]
  },
  {
   "cell_type": "markdown",
   "metadata": {},
   "source": [
    "## Aufgaben"
   ]
  },
  {
   "cell_type": "markdown",
   "metadata": {},
   "source": [
    "**Aufgabe 1:** 3. Realisiere folgende Bildschirmausgabe mit einer for-Schleife!  \n",
    "\n",
    "6  \n",
    "\n",
    "8  \n",
    "\n",
    "10\n",
    "\n",
    "12"
   ]
  },
  {
   "cell_type": "code",
   "execution_count": null,
   "metadata": {},
   "outputs": [],
   "source": []
  },
  {
   "cell_type": "markdown",
   "metadata": {},
   "source": [
    "**Aufgabe 2:** Geben Sie die ersten 5 Zeichen der folgenden Zeichenkette mit einer for-Schleife aus:"
   ]
  },
  {
   "cell_type": "code",
   "execution_count": 10,
   "metadata": {},
   "outputs": [],
   "source": [
    "zeichenkette=\"Hallo FTE\"\n",
    "# Hinweis: Über den Index kann auf einzelne Zeichen eines Strings zugegriffen werden\n",
    "# Beispiel: zeichenkette[0] für das erste Zeichen"
   ]
  },
  {
   "cell_type": "markdown",
   "metadata": {},
   "source": [
    "**Zusatz:** Die Ausgabe soll in einer Zeille und ohne Trennzeichen erfolgen."
   ]
  },
  {
   "cell_type": "markdown",
   "metadata": {},
   "source": [
    "**Aufgabe 3:** Schreiben Sie ein Programm, das den Betrag des Taschengelds in Abhängigkeit vom Alter ausgibt. Das Taschengeld wird vom 6. bis zum 21. Lebensjahr ausgezahlt. Dabei sind der Anfangsbetrag und die jährliche Erhöhung vom Benutzer einzugeben.\n",
    "Beispielausgabe:\n",
    "\n",
    "![Ausgabe](https://raw.githubusercontent.com/sttoraus/Teaching-/master/for1.JPG)"
   ]
  },
  {
   "cell_type": "code",
   "execution_count": null,
   "metadata": {},
   "outputs": [],
   "source": []
  },
  {
   "cell_type": "markdown",
   "metadata": {},
   "source": [
    "**Zusatz:** Berechnen Sie, wie viel Taschengeld die Eltern in Summe ausgegeben haben und geben Sie den berechneten Betrag aus."
   ]
  },
  {
   "cell_type": "code",
   "execution_count": null,
   "metadata": {},
   "outputs": [],
   "source": []
  },
  {
   "cell_type": "markdown",
   "metadata": {},
   "source": [
    "**Aufgabe 4:** In diesem Projekt soll überprüft werden, welchen Zielwert eine Finanzanlage, die zu einem bestimmten Zinssatz für eine bestimme Anlagedauer (in Jahren) durch Zinseszins-Vermehrung erreicht. Für jedes Jahr, die die Finanzanlage läuft, soll der Wert am Ende des Jahres ausgegeben werden. Dabei sind der Zinssatz, die Dauer und das Kapital vom Benutzer einzugeben. Beispielausgabe:  \n",
    "![Ausgabe](https://raw.githubusercontent.com/sttoraus/Teaching-/master/for2.JPG)"
   ]
  },
  {
   "cell_type": "code",
   "execution_count": null,
   "metadata": {},
   "outputs": [],
   "source": []
  },
  {
   "cell_type": "markdown",
   "metadata": {},
   "source": [
    "**Zusatzaufgabe:** Lösen Sie folgende Aufgabe mit einer for-Schleife.  \n",
    "Beachten Sie folgenden [Hinweis](https://www.arndt-bruenner.de/mathe/scripts/pruefziffern.htm) für die Berechnung der Prüfziffer![Bild](https://raw.githubusercontent.com/sttoraus/Teaching-/master/modulo.JPG)"
   ]
  },
  {
   "cell_type": "code",
   "execution_count": null,
   "metadata": {},
   "outputs": [],
   "source": []
  }
 ],
 "metadata": {
  "kernelspec": {
   "display_name": "Python 3",
   "language": "python",
   "name": "python3"
  },
  "language_info": {
   "codemirror_mode": {
    "name": "ipython",
    "version": 3
   },
   "file_extension": ".py",
   "mimetype": "text/x-python",
   "name": "python",
   "nbconvert_exporter": "python",
   "pygments_lexer": "ipython3",
   "version": "3.8.3"
  }
 },
 "nbformat": 4,
 "nbformat_minor": 4
}

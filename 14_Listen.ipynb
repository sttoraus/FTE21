{
 "cells": [
  {
   "cell_type": "markdown",
   "metadata": {},
   "source": [
    "# Listen\n",
    "\n",
    "Wir haben mit Variablen die Möglichkeit kennen gelernt, in einem Platzhalter (sprich die Variable) Inhalt zu speichern. Allerdings kann jede Variable nur einen Inhalt haben. Das kann je nach Fall unpraktisch werden. [Quelle](https://www.python-lernen.de/listen.htm)\n",
    "\n",
    "Wenn man sich vorstellt, dass man ein Telefonbuch in Variablen speichern möchte, dann hätte man wilde Konstruktionen wie:"
   ]
  },
  {
   "cell_type": "code",
   "execution_count": 1,
   "metadata": {},
   "outputs": [],
   "source": [
    "vorname1 = 'Axel'\n",
    "vorname2 = 'Elke'\n",
    "vorname3 = 'Martin'"
   ]
  },
  {
   "cell_type": "markdown",
   "metadata": {},
   "source": [
    "Aber wo soll das enden? Daher gibt es sogenannte „Listen“ in Python. Wer schon eine andere Programmiersprache kennt, hier wird diese Möglichkeit Array genannt.\n",
    "\n",
    "Wie können wir in Python nun in Listen Inhalte speichern? Ganz einfach über die eckigen Klammern"
   ]
  },
  {
   "cell_type": "code",
   "execution_count": 2,
   "metadata": {},
   "outputs": [],
   "source": [
    "vornamen = ['Axel', 'Elke', 'Martin']"
   ]
  },
  {
   "cell_type": "markdown",
   "metadata": {},
   "source": [
    "Die Ausgabe kann wie gewohnt über print() erfolgen:"
   ]
  },
  {
   "cell_type": "code",
   "execution_count": 3,
   "metadata": {},
   "outputs": [
    {
     "name": "stdout",
     "output_type": "stream",
     "text": [
      "['Axel', 'Elke', 'Martin']\n"
     ]
    }
   ],
   "source": [
    "vornamen = ['Axel', 'Elke', 'Martin']\n",
    "print(vornamen)"
   ]
  },
  {
   "cell_type": "markdown",
   "metadata": {},
   "source": [
    "Es werden nun alle Vornamen ausgegeben. Wollen wir nun nur einen bestimmten Vornamen ausgeben, müssen wir die Index-Nummer mitgeben. Diese wird in einer eckigen Klammer geschrieben."
   ]
  },
  {
   "cell_type": "code",
   "execution_count": 5,
   "metadata": {},
   "outputs": [
    {
     "name": "stdout",
     "output_type": "stream",
     "text": [
      "Axel\n"
     ]
    }
   ],
   "source": [
    "vornamen = ['Axel', 'Elke', 'Martin']\n",
    "print(vornamen[0])"
   ]
  },
  {
   "cell_type": "markdown",
   "metadata": {},
   "source": [
    "**Wichtig: Der Index beginnt immer mit der 0!** Soll auf der erste Element zugegriffen werden, muss also die 0 verwendet werden"
   ]
  },
  {
   "cell_type": "code",
   "execution_count": 22,
   "metadata": {},
   "outputs": [
    {
     "name": "stdout",
     "output_type": "stream",
     "text": [
      "Axel\n",
      "Elke\n",
      "Martin\n"
     ]
    }
   ],
   "source": [
    "vornamen = ['Axel', 'Elke', 'Martin']\n",
    "print(vornamen[0])\n",
    "print(vornamen[1])\n",
    "print(vornamen[2])"
   ]
  },
  {
   "cell_type": "markdown",
   "metadata": {},
   "source": [
    "## Listenwerte überschreiben\n",
    "\n",
    "Wollen wir einen bestehenden Listeneintrag überschreiben, weil aus dem Martin eine Martina geworden ist, können wir das über die Index-Nummer und einer neuen Wertzuweisung machen:"
   ]
  },
  {
   "cell_type": "code",
   "execution_count": 8,
   "metadata": {},
   "outputs": [
    {
     "name": "stdout",
     "output_type": "stream",
     "text": [
      "['Axel', 'Elke', 'Martina']\n"
     ]
    }
   ],
   "source": [
    "vornamen = ['Axel', 'Elke', 'Martin']\n",
    "vornamen[2] = 'Martina'\n",
    "print(vornamen)"
   ]
  },
  {
   "cell_type": "markdown",
   "metadata": {},
   "source": [
    "## Methoden von Listen\n",
    "Auch bei Listen handelt es sich um Objekte, welche eigene Möglichkeiten/ Methoden besitzen. Siehe **help(list)**. Eine wichtige Methode von Listen ist die Methode **append()**. Diese Metode kann verwendet werden, um eine Liste mit zusätzlcihen Einträgen zu ergänzen. Beispiel:"
   ]
  },
  {
   "cell_type": "code",
   "execution_count": 9,
   "metadata": {},
   "outputs": [
    {
     "name": "stdout",
     "output_type": "stream",
     "text": [
      "['Axel', 'Elke', 'Martin', 'Harald']\n"
     ]
    }
   ],
   "source": [
    "vornamen = ['Axel', 'Elke', 'Martin']\n",
    "vornamen.append(\"Harald\")\n",
    "print(vornamen)"
   ]
  },
  {
   "cell_type": "markdown",
   "metadata": {},
   "source": [
    "## Listen und Schleifen\n",
    "Listen werden oft in Kombination mit Schleifen eingesetzt."
   ]
  },
  {
   "cell_type": "code",
   "execution_count": 6,
   "metadata": {},
   "outputs": [
    {
     "name": "stdout",
     "output_type": "stream",
     "text": [
      "Vorname: Axel\n",
      "Vorname: Elke\n",
      "Vorname: Martin\n"
     ]
    }
   ],
   "source": [
    "vornamen = ['Axel', 'Elke', 'Martin']\n",
    "laenge=len(vornamen)  # Speichern, wieviele Einträge die Liste besitzt\n",
    "for i in range (0,laenge,1):   # for i in range(laenge) würde auch gehen\n",
    "    print(\"Vorname:\",vornamen[i])"
   ]
  },
  {
   "cell_type": "code",
   "execution_count": 8,
   "metadata": {},
   "outputs": [
    {
     "name": "stdout",
     "output_type": "stream",
     "text": [
      "[0, 1, 2, 3, 4, 5, 6, 7, 8, 9]\n"
     ]
    }
   ],
   "source": [
    "zahlenreihe=[] # anlegen einer leeren Liste\n",
    "for i in range(0,10,1):\n",
    "    zahlenreihe.append(i)\n",
    "print(zahlenreihe)"
   ]
  },
  {
   "cell_type": "markdown",
   "metadata": {},
   "source": [
    "## Aufgaben\n",
    "1. Es sollen vier Werte einer Person eingelesen werden: das Alter, der Namen, der Nachnem und das Geschlecht. Alle Daten sollen in einer Liste mit dem Namen \"person\" gespeichert werden.\n",
    "2. Nutze nun den Ihnalt der Liste um folgende Bildschirmausgabe zu erhalten \"Guten Tag *Vorname Nachname*. Sie sind *Alter* Jahre alt und *Geschlecht*\""
   ]
  },
  {
   "cell_type": "code",
   "execution_count": 17,
   "metadata": {},
   "outputs": [],
   "source": [
    "# Hinweis: Beginne mit dem anlegen einer leeren Liste und erweitere diese mit der Methode append()\n",
    "person=[]   # Anlegen einer leeren Liste mit dem Namen person"
   ]
  },
  {
   "cell_type": "markdown",
   "metadata": {},
   "source": [
    "3. Erstellen Sie eine Liste, welche fünf Zahlen Ihrer Wahl Einliest.\n",
    "4. Nutzen Sie die Methode pop() um die erste Zahl Ihrer Liste aus Aufgabe 3 zu löschen."
   ]
  },
  {
   "cell_type": "code",
   "execution_count": 39,
   "metadata": {},
   "outputs": [],
   "source": []
  },
  {
   "cell_type": "markdown",
   "metadata": {},
   "source": [
    "5. Gegeben ist folgende Liste, welche Messdaten beinhaltet. Bestimmen sie mittels der \"len()\" Funktion, wieviele Messdaten vorhanden sind.\n",
    "6. Berechnen Sie den Mittelwert der Messpunkte."
   ]
  },
  {
   "cell_type": "code",
   "execution_count": 15,
   "metadata": {},
   "outputs": [],
   "source": [
    "messdaten=[2.8,3.0,3.3,4.5,2.7,3.1,2.9]"
   ]
  },
  {
   "cell_type": "markdown",
   "metadata": {},
   "source": [
    "## Zusatzaufgabe"
   ]
  },
  {
   "cell_type": "markdown",
   "metadata": {},
   "source": [
    "Folgender Code wandelt eine Dezimalzahl in eine Dualzahl. Als Ergebnis erhalten wir ein Liste, welche die Dualzahl leider in falscher Reihenfolge beinhaltet. Schreibe den Code so um, dass weitere Einträge nicht am Ende der Liste hinzugefügt werden, sondern zu Begin. Nutze hierfür die Methode \"insert\".\n",
    "Geben Sie die Dualzahl anschließend ohne Klammern und Komma aus."
   ]
  },
  {
   "cell_type": "code",
   "execution_count": 1,
   "metadata": {},
   "outputs": [
    {
     "name": "stdin",
     "output_type": "stream",
     "text": [
      "Geben sie eine Ganzzahl ein: 8\n"
     ]
    },
    {
     "name": "stdout",
     "output_type": "stream",
     "text": [
      "[0, 0, 0, 1]\n"
     ]
    }
   ],
   "source": [
    "zahl=int(input(\"Geben sie eine Ganzzahl ein:\"))\n",
    "dualzahl = [] \n",
    "while(zahl != 0):\n",
    "    if(zahl%2 == 0):\n",
    "        dualzahl.append(0) \n",
    "    else:\n",
    "        dualzahl.append(1)\n",
    "    zahl= int(zahl/2)\n",
    "print(dualzahl)"
   ]
  },
  {
   "cell_type": "code",
   "execution_count": null,
   "metadata": {},
   "outputs": [],
   "source": []
  },
  {
   "cell_type": "code",
   "execution_count": null,
   "metadata": {},
   "outputs": [],
   "source": []
  },
  {
   "cell_type": "code",
   "execution_count": null,
   "metadata": {},
   "outputs": [],
   "source": []
  }
 ],
 "metadata": {
  "kernelspec": {
   "display_name": "Python 3",
   "language": "python",
   "name": "python3"
  },
  "language_info": {
   "codemirror_mode": {
    "name": "ipython",
    "version": 3
   },
   "file_extension": ".py",
   "mimetype": "text/x-python",
   "name": "python",
   "nbconvert_exporter": "python",
   "pygments_lexer": "ipython3",
   "version": "3.8.3"
  }
 },
 "nbformat": 4,
 "nbformat_minor": 4
}
